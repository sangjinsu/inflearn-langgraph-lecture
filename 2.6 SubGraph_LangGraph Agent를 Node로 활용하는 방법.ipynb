{
 "cells": [
  {
   "cell_type": "markdown",
   "metadata": {},
   "source": [
    "# 2.6 SubGraph: LangGraph Agent를 Node로 활용하는 방법"
   ]
  },
  {
   "cell_type": "markdown",
   "metadata": {},
   "source": [
    "- [Adaptive-RAG: Learning to Adapt Retrieval-Augmented Large Language Models through Question Complexity](https://arxiv.org/abs/2403.14403)논문을 구현합니다\n",
    "- LangGraph 공식문서의 흐름을 따라갑니다\n",
    "    - 공식문서의 흐름은 간소화된 버전입니다\n",
    "    - 실제 논문과 유사한 구현은 3.3강을 참고해주세요\n",
    "\n",
    "![adaptive-rag](https://i.imgur.com/tbICSxY.png)"
   ]
  },
  {
   "cell_type": "code",
   "execution_count": 15,
   "metadata": {},
   "outputs": [
    {
     "data": {
      "text/plain": [
       "True"
      ]
     },
     "execution_count": 15,
     "metadata": {},
     "output_type": "execute_result"
    }
   ],
   "source": [
    "from dotenv import load_dotenv\n",
    "\n",
    "load_dotenv()"
   ]
  },
  {
   "cell_type": "code",
   "execution_count": 16,
   "metadata": {},
   "outputs": [],
   "source": [
    "from typing_extensions import TypedDict\n",
    "from langgraph.graph import StateGraph\n",
    "\n",
    "class AgentState(TypedDict):\n",
    "    query: str\n",
    "    context: list\n",
    "    answer: str\n",
    "    \n",
    "graph_builder = StateGraph(AgentState)"
   ]
  },
  {
   "cell_type": "code",
   "execution_count": 17,
   "metadata": {},
   "outputs": [],
   "source": [
    "from langchain_community.tools import TavilySearchResults\n",
    "\n",
    "tavily_search_tool = TavilySearchResults(\n",
    "    max_results=3,\n",
    "    search_depth=\"advanced\",\n",
    "    include_answer=True,\n",
    "    include_raw_content=True,\n",
    "    include_images=True,\n",
    ")\n",
    "\n",
    "def web_search(state: AgentState) -> AgentState:\n",
    "    \"\"\"\n",
    "    주어진 state를 기반으로 웹 검색을 수행합니다.\n",
    "\n",
    "    Args:\n",
    "        state (AgentState): 사용자의 질문을 포함한 에이전트의 현재 state.\n",
    "\n",
    "    Returns:\n",
    "        AgentState: 웹 검색 결과가 추가된 state를 반환합니다.\n",
    "    \"\"\"\n",
    "    query = state['query']\n",
    "    results = tavily_search_tool.invoke(query)\n",
    "\n",
    "    return {'context': results}"
   ]
  },
  {
   "cell_type": "code",
   "execution_count": 18,
   "metadata": {},
   "outputs": [
    {
     "name": "stderr",
     "output_type": "stream",
     "text": [
      "/Users/sangjinsu/projects/inflearn-langgraph-lecture/.venv/lib/python3.13/site-packages/langsmith/client.py:272: LangSmithMissingAPIKeyWarning: API key must be provided when using hosted LangSmith API\n",
      "  warnings.warn(\n"
     ]
    }
   ],
   "source": [
    "from langchain import hub\n",
    "from langchain_openai import ChatOpenAI\n",
    "from langchain_core.output_parsers import StrOutputParser\n",
    "\n",
    "# LangChain 허브에서 프롬프트를 가져옵니다\n",
    "generate_prompt = hub.pull(\"rlm/rag-prompt\")\n",
    "# OpenAI의 GPT-4o 모델을 사용합니다\n",
    "generate_llm = ChatOpenAI(model=\"gpt-4o\")\n",
    "\n",
    "def web_generate(state: AgentState) -> AgentState:\n",
    "    \"\"\"\n",
    "    주어진 문맥과 질문을 기반으로 답변을 생성합니다.\n",
    "\n",
    "    Args:\n",
    "        state (AgentState): 문맥과 질문을 포함한 에이전트의 현재 state.\n",
    "\n",
    "    Returns:\n",
    "        AgentState: 생성된 답변을 포함한 state를 반환합니다.\n",
    "    \"\"\"\n",
    "    # state에서 문맥과 질문을 추출합니다\n",
    "    context = state['context']\n",
    "    query = state['query']\n",
    "    \n",
    "    # 프롬프트와 모델, 출력 파서를 연결하여 체인을 생성합니다\n",
    "    rag_chain = generate_prompt | generate_llm | StrOutputParser()\n",
    "    \n",
    "    # 체인을 사용하여 답변을 생성합니다\n",
    "    response = rag_chain.invoke({'question': query, 'context': context})\n",
    "    \n",
    "    # 생성된 답변을 'answer'로 반환합니다\n",
    "    return {'answer': response}"
   ]
  },
  {
   "cell_type": "markdown",
   "metadata": {},
   "source": [
    "- 간단한 질문에 답변을 하는 경우 작은 모델을 활용해서 비용을 저감하고, 답변 생성 속도를 향상시킬 수 있습니다"
   ]
  },
  {
   "cell_type": "code",
   "execution_count": 19,
   "metadata": {},
   "outputs": [],
   "source": [
    "from langchain_openai import ChatOpenAI\n",
    "from langchain_core.output_parsers import StrOutputParser\n",
    "\n",
    "# OpenAI의 GPT-4o-mini 모델을 사용합니다\n",
    "basic_llm = ChatOpenAI(model=\"gpt-4o-mini\")\n",
    "\n",
    "def basic_generate(state: AgentState) -> AgentState:\n",
    "    \"\"\"\n",
    "    사용자의 질문에 기반하여 기본 답변을 생성합니다.\n",
    "\n",
    "    Args:\n",
    "        state (AgentState): 사용자의 질문을 포함한 에이전트의 현재 state.\n",
    "\n",
    "    Returns:\n",
    "        AgentState: 생성된 답변을 포함한 state를 반환합니다.\n",
    "    \"\"\"\n",
    "    # state에서 질문을 추출합니다\n",
    "    query = state['query']\n",
    "    \n",
    "    # 기본 LLM 체인을 생성합니다\n",
    "    basic_llm_chain = basic_llm | StrOutputParser()\n",
    "    \n",
    "    # 체인을 사용하여 답변을 생성합니다\n",
    "    llm_response = basic_llm_chain.invoke(query)\n",
    "    \n",
    "    # 생성된 답변을 'answer'로 반환합니다\n",
    "    return {'answer': llm_response}"
   ]
  },
  {
   "cell_type": "markdown",
   "metadata": {},
   "source": [
    "- 사용자의 질문이 들어오면 `router` 노드에서 사용자의 질문을 분석해서 적절한 노드로 이동합니다\n",
    "    - 사용자의 질문에 관한 내용이 vector store에 있는 경우 `income_tax_agent` 노드로 이동합니다\n",
    "    - 사용자의 질문이 간단한 경우 `basic_generate` 노드로 이동합니다\n",
    "    - 사용자의 질문이 웹 검색을 통해 답변을 얻을 수 있는 경우 `web_search` 노드로 이동합니다"
   ]
  },
  {
   "cell_type": "code",
   "execution_count": 20,
   "metadata": {},
   "outputs": [],
   "source": [
    "from langchain_core.prompts import ChatPromptTemplate\n",
    "from pydantic import BaseModel, Field\n",
    "from typing import Literal\n",
    "\n",
    "class Route(BaseModel):\n",
    "    target: Literal['vector_store', 'llm', 'web_search'] = Field(\n",
    "        description=\"The target for the query to answer\"\n",
    "    )\n",
    "\n",
    "router_system_prompt = \"\"\"\n",
    "You are an expert at routing a user's question to 'vector_store', 'llm', or 'web_search'.\n",
    "'vector_store' contains information about income tax up to December 2024.\n",
    "if you think the question is simple enough use 'llm'\n",
    "if you think you need to search the web to answer the question use 'web_search'\n",
    "\"\"\"\n",
    "\n",
    "\n",
    "router_prompt = ChatPromptTemplate.from_messages([\n",
    "    ('system', router_system_prompt),\n",
    "    ('user', '{query}')\n",
    "])\n",
    "\n",
    "router_llm = ChatOpenAI(model=\"gpt-4o-mini\")\n",
    "structured_router_llm = router_llm.with_structured_output(Route)\n",
    "\n",
    "def router(state: AgentState) -> Literal['vector_store', 'llm', 'web_search']:\n",
    "    \"\"\"\n",
    "    사용자의 질문에 기반하여 적절한 경로를 결정합니다.\n",
    "\n",
    "    Args:\n",
    "        state (AgentState): 사용자의 질문을 포함한 에이전트의 현재 state.\n",
    "\n",
    "    Returns:\n",
    "        Literal['vector_store', 'llm', 'web_search']: 질문을 처리하기 위한 적절한 경로를 나타내는 문자열.\n",
    "    \"\"\"\n",
    "    # state에서 질문을 추출합니다\n",
    "    query = state['query']\n",
    "    \n",
    "    # 프롬프트와 구조화된 라우터 LLM을 연결하여 체인을 생성합니다\n",
    "    router_chain = router_prompt | structured_router_llm \n",
    "    \n",
    "    # 체인을 사용하여 경로를 결정합니다\n",
    "    route = router_chain.invoke({'query': query})\n",
    "\n",
    "    # 결정된 경로의 타겟을 반환합니다\n",
    "    return route.target"
   ]
  },
  {
   "cell_type": "markdown",
   "metadata": {},
   "source": [
    "- `node`를 추가하고 `edge`로 연결합니다"
   ]
  },
  {
   "cell_type": "code",
   "execution_count": 21,
   "metadata": {},
   "outputs": [
    {
     "name": "stderr",
     "output_type": "stream",
     "text": [
      "/Users/sangjinsu/projects/inflearn-langgraph-lecture/.venv/lib/python3.13/site-packages/langsmith/client.py:272: LangSmithMissingAPIKeyWarning: API key must be provided when using hosted LangSmith API\n",
      "  warnings.warn(\n",
      "/Users/sangjinsu/projects/inflearn-langgraph-lecture/.venv/lib/python3.13/site-packages/langsmith/client.py:272: LangSmithMissingAPIKeyWarning: API key must be provided when using hosted LangSmith API\n",
      "  warnings.warn(\n",
      "/Users/sangjinsu/projects/inflearn-langgraph-lecture/.venv/lib/python3.13/site-packages/langsmith/client.py:272: LangSmithMissingAPIKeyWarning: API key must be provided when using hosted LangSmith API\n",
      "  warnings.warn(\n"
     ]
    },
    {
     "data": {
      "text/plain": [
       "<langgraph.graph.state.StateGraph at 0x124014e90>"
      ]
     },
     "execution_count": 21,
     "metadata": {},
     "output_type": "execute_result"
    }
   ],
   "source": [
    "from income_tax_graph import graph as income_tax_subgraph\n",
    "\n",
    "graph_builder.add_node('income_tax_agent', income_tax_subgraph)\n",
    "graph_builder.add_node('web_search', web_search)\n",
    "graph_builder.add_node('web_generate', web_generate)\n",
    "graph_builder.add_node('basic_generate', basic_generate)"
   ]
  },
  {
   "cell_type": "code",
   "execution_count": 22,
   "metadata": {},
   "outputs": [
    {
     "data": {
      "text/plain": [
       "<langgraph.graph.state.StateGraph at 0x124014e90>"
      ]
     },
     "execution_count": 22,
     "metadata": {},
     "output_type": "execute_result"
    }
   ],
   "source": [
    "from langgraph.graph import START, END\n",
    "\n",
    "graph_builder.add_conditional_edges(\n",
    "    START, \n",
    "    router,\n",
    "    {\n",
    "        'vector_store': 'income_tax_agent',\n",
    "        'llm': 'basic_generate',\n",
    "        'web_search': 'web_search'\n",
    "    }\n",
    ")\n",
    "\n",
    "graph_builder.add_edge('web_search', 'web_generate')\n",
    "graph_builder.add_edge('web_generate', END)\n",
    "graph_builder.add_edge('basic_generate', END)\n",
    "graph_builder.add_edge('income_tax_agent', END)"
   ]
  },
  {
   "cell_type": "code",
   "execution_count": 23,
   "metadata": {},
   "outputs": [],
   "source": [
    "graph = graph_builder.compile()"
   ]
  },
  {
   "cell_type": "code",
   "execution_count": 24,
   "metadata": {},
   "outputs": [
    {
     "data": {
      "image/png": "[encoded data removed]",
      "text/plain": [
       "<IPython.core.display.Image object>"
      ]
     },
     "metadata": {},
     "output_type": "display_data"
    }
   ],
   "source": [
    "from IPython.display import Image, display\n",
    "\n",
    "display(Image(graph.get_graph().draw_mermaid_png()))"
   ]
  },
  {
   "cell_type": "code",
   "execution_count": 25,
   "metadata": {},
   "outputs": [
    {
     "data": {
      "text/plain": [
       "{'query': '대한민국의 수도는 어디인가요?', 'answer': '대한민국의 수도는 서울입니다.'}"
      ]
     },
     "execution_count": 25,
     "metadata": {},
     "output_type": "execute_result"
    }
   ],
   "source": [
    "initial_state = {'query': '대한민국의 수도는 어디인가요?'}\n",
    "graph.invoke(initial_state)"
   ]
  },
  {
   "cell_type": "code",
   "execution_count": 26,
   "metadata": {},
   "outputs": [
    {
     "data": {
      "text/plain": [
       "{'query': '연봉 5천만원인 거주자의 소득세는 얼마인가요?',\n",
       " 'context': [Document(id='c3d95c37-2b30-4784-bfc1-51691e476b39', metadata={'source': './documents/income_tax.txt'}, page_content='② 제70조제1항, 제70조의2에 따른 제74조에 따라 차례로 할 것이 제70조제1항제2호에 따르며 서류를 제출하여야 한다는 경우에는 기준소득 중 거주자 본인이 된다(분산)과 제70조제2와 제74조에 따른 제료 및 제대법을 포함한다. 단, 차별제표청정인 그 업체를 남겨 제출한 경우로 그에 대하여 아니하다.<개정 2013. 1. 1.>\\n  ③ 제80조에 따른 수익과 관련의 경우에는 기초공제 중 거주자 본인이 된다(분산)과 그에 관한 적지사항을 분명히 한다.\\n[전문개정 2009. 12. 31.]\\n[제목개정 2014. 1. 1.]\\n제54조의2(공동사업에 대한 소득공제 등 특례) 제51조의3 또는 「조세특례제한법」에 따른 소득공제를 적용하거나 제59조의2에 따른 세액감면을 적용하는 경우 제54조제3항에 따라 공동사업자의 소득에 합산과세되는 특별세액거래의 지출․납입․투자 등의 금액이 있을 경우 주된 공동사업자의 소득에 합산과세되는 소득금액에 합산되어 주된 공동사업자의 합산과세세액은 공동사업소득액 또는 공동사업창출세액을 계산할 때 소득공제 또는 세액공제를 받을 수 있다. \\n[개정 2014. 1. 1.]\\n[전문개정 2009. 12. 31.]\\n[제목개정 2014. 1. 1.]\\n제2절 세액의 계산 <개정 2009. 12. 31.>\\n제1관 세율 <개정 2009. 12. 31.>\\n제55조(세율) 거주자의 종합소득에 대한 소득세는 해당 연도의 종합소득과세표준에 다음의 세율을 적용하여 계산한 금액(이하 \"종합소득과세표준세액\"이라 한다)을 그 세액으로 한다. <개정 2014. 1. 1., 2016. 12. 20., 2017. 12. 19., 2020. 12. 29., 2022. 12. 31.>\\n종합소득\\n┌───────────────┐\\n│ 과세표준의 6개 구간 │\\n├───────────────┤\\n│ 1,400만원 이하        │ 84만원 + (1,400만원을 초과하는 금액의 15%)  │\\n│ 1,400만원 초과        │ 84만원 + (5,000만원을 초과하는 금액의 24%)  │\\n│ 8,800만원 이하        │ 624만원 + (5,000만원을 초과하는 금액의 24%)  │\\n│ 8,800만원 초과        │ 1,536만원 + (8,800만원을 초과하는 금액의 35%)  │\\n│ 1.5억원 초과          │ 4,046만원 + (1,500만원을 초과하는 금액의 38%)  │\\n│ 3억원 초과            │ 6,460만원 + (3억원을 초과하는 금액의 40%)  │\\n│ 5억원 초과            │ 14,760만원 + (5억원을 초과하는 금액의 42%)  │\\n│ 10억원 초과           │ 38,406만원 + (10억원을 초과하는 금액의 45%)  │\\n└───────────────┘\\n② 거주자의 퇴직소득에 대한 소득세는 다음 각 호의 순서에 따라 계산한 금액(이하 ‘퇴직소득 산출세액’이라 한다)으로 한다. <개정 2013. 1. 1., 2014. 12. 23.>'),\n",
       "  Document(id='9ef264ea-e05d-46d8-a4a2-aeced74caeda', metadata={'source': './documents/income_tax.txt'}, page_content='② 제70조제1항, 제70조의2에 따른 제74조에 따라 차례로 할 것이 제70조제1항제2호에 따르며 서류를 제출하여야 한다는 경우에는 기준소득 중 거주자 본인이 된다(분산)과 제70조제2와 제74조에 따른 제료 및 제대법을 포함한다. 단, 차별제표청정인 그 업체를 남겨 제출한 경우로 그에 대하여 아니하다.<개정 2013. 1. 1.>\\n  ③ 제80조에 따른 수익과 관련의 경우에는 기초공제 중 거주자 본인이 된다(분산)과 그에 관한 적지사항을 분명히 한다.\\n[전문개정 2009. 12. 31.]\\n[제목개정 2014. 1. 1.]\\n제54조의2(공동사업에 대한 소득공제 등 특례) 제51조의3 또는 「조세특례제한법」에 따른 소득공제를 적용하거나 제59조의2에 따른 세액감면을 적용하는 경우 제54조제3항에 따라 공동사업자의 소득에 합산과세되는 특별세액거래의 지출․납입․투자 등의 금액이 있을 경우 주된 공동사업자의 소득에 합산과세되는 소득금액에 합산되어 주된 공동사업자의 합산과세세액은 공동사업소득액 또는 공동사업창출세액을 계산할 때 소득공제 또는 세액공제를 받을 수 있다. \\n[개정 2014. 1. 1.]\\n[전문개정 2009. 12. 31.]\\n[제목개정 2014. 1. 1.]\\n제2절 세액의 계산 <개정 2009. 12. 31.>\\n제1관 세율 <개정 2009. 12. 31.>\\n제55조(세율) 거주자의 종합소득에 대한 소득세는 해당 연도의 종합소득과세표준에 다음의 세율을 적용하여 계산한 금액(이하 \"종합소득과세표준세액\"이라 한다)을 그 세액으로 한다. <개정 2014. 1. 1., 2016. 12. 20., 2017. 12. 19., 2020. 12. 29., 2022. 12. 31.>\\n종합소득\\n┌───────────────┐\\n│ 과세표준의 6개 구간 │\\n├───────────────┤\\n│ 1,400만원 이하        │ 84만원 + (1,400만원을 초과하는 금액의 15%)  │\\n│ 1,400만원 초과        │ 84만원 + (5,000만원을 초과하는 금액의 24%)  │\\n│ 8,800만원 이하        │ 624만원 + (5,000만원을 초과하는 금액의 24%)  │\\n│ 8,800만원 초과        │ 1,536만원 + (8,800만원을 초과하는 금액의 35%)  │\\n│ 1.5억원 초과          │ 4,046만원 + (1,500만원을 초과하는 금액의 38%)  │\\n│ 3억원 초과            │ 6,460만원 + (3억원을 초과하는 금액의 40%)  │\\n│ 5억원 초과            │ 14,760만원 + (5억원을 초과하는 금액의 42%)  │\\n│ 10억원 초과           │ 38,406만원 + (10억원을 초과하는 금액의 45%)  │\\n└───────────────┘\\n② 거주자의 퇴직소득에 대한 소득세는 다음 각 호의 순서에 따라 계산한 금액(이하 ‘퇴직소득 산출세액’이라 한다)으로 한다. <개정 2013. 1. 1., 2014. 12. 23.>'),\n",
       "  Document(id='1dac7462-2ebd-4d73-9bb2-ad35da85dcc1', metadata={'source': './documents/income_tax.txt'}, page_content='5년 이하: 30만원 → 납입연수\\n5년 초과 10년 이하: 150만원 + 50만원 × (납입연수 - 5년)\\n10년 초과 20년 이하: 400만원 + 80만원 × (납입연수 - 10년)\\n20년 초과: 1,200만원 + 120만원 × (납입연수 - 20년)\\n\\n② 직장근로자 초과관세환급금을 분배하여 지급받는 경우 세액의 계산 방법 등 필요한 사항은 대통령령으로 정한다. \\n<대통령 2014. 12. 23.>\\n<전문개정 2009. 12. 31.>\\n제64조(부동산매매업자에 대한 세액 계산의 특례)\\n1) 대통령령으로 정하는 부동산매매업(이하 “부동산매매업”이라 한다)을 영위하는 거주자가 이하 “부동산매매업자”라 한다)로서 종합소득세법에 제104조제1항제1호(본항을 포함한다) 및 제103조 또는 같은 조 제7항 각 호의 어느 하나에 해당하는 자산의 매매자익(이하 “주택등매매차익”이라 한다)이 있는 자의 종합소득 산출세액은 다음 각 호의 세액 중 많은 것으로 한다. \\n<개정 2014. 12. 23., 2017. 12. 19., 2020. 12. 29.>\\n1. 종합소득 산출세액\\n\\n다음 각 목에 따른 세액의 합계액\\n  가. 주택등매매차익에 따른 세율을 적용하여 산출한 세액의 합계액\\n  나. 종합소득세법 제55조에 따라 주택등매매차익에 대한 개별세액을 공제한 금액을 과세표준으로 하고 이에 제55조에 따른 세율을 적용하여 산출세액')],\n",
       " 'answer': '연봉 5천만원인 거주자의 소득세는 624만원 + (5천만원 초과 금액에 대해 24%) 방식으로 계산됩니다. 따라서, 5천만원 이하 기준으로는 624만원의 세액이 적용되고, 5천만원 초과 부분에 대해 24%가 추가로 부과됩니다. 구체적인 세액 계산은 이 정보를 바탕으로 구할 수 있습니다.'}"
      ]
     },
     "execution_count": 26,
     "metadata": {},
     "output_type": "execute_result"
    }
   ],
   "source": [
    "initial_state = {'query': '연봉 5천만원인 거주자의 소득세는 얼마인가요?'}\n",
    "graph.invoke(initial_state)"
   ]
  },
  {
   "cell_type": "code",
   "execution_count": 27,
   "metadata": {},
   "outputs": [
    {
     "data": {
      "text/plain": [
       "{'query': '역삼 맛집을 추천해주세요',\n",
       " 'context': [{'title': '역삼역 주변 맛집 리스트 - pangpang - 티스토리',\n",
       "   'url': 'https://sam-repository.tistory.com/11',\n",
       "   'content': \"키워드:#술 #플래터 #맥주 #하이볼 #논알콜도있어요 #와인 #단체회식\\n\\n도로명주소:서울 강남구 테헤란로33길 18 1층\\n\\n맛있게 먹은 사람:76.19%(432 / 567)\\n\\n한 줄 평가:눈이 즐거워지는 대용량 플래터 와 인테리어가 인상적인 맥주집!\\n\\n맥주, 하이볼, 와인, 논알콜 다양한 종류가 있어서 주종 상관 없이 취향껏 즐길 수 있어요. 무엇보다 여러 명이서 가서 플래터를 하나 시키면 맛있고 양이 많아서 남녀노소 누구나 즐길 수 있는 술집입니다. 뿐만 아니라 인테리어, 화장실도 깔끔해서 역삼역 회식 장소로 강추!\\n\\n10. 신동궁감자탕 역삼직영점\\n--------------------\\n\\nImage 12\\n\\n역삼역 맛집 10. 신동궁감자탕 역삼직영점\\n\\n키워드:#한식 #뼈숯불구이 #감자탕 #양배추샐러드도맛도리 #많이매운편 #볶음밥도필수\\n\\n도로명주소: 서울 강남구 테헤란로10길 21 1층\\n\\n맛있게 먹은 사람: 73.77%(987 / 1338) [...] 한 줄 평가:매운 음식을 좋아한다면 도전해볼만한 뼈숯불구이!\\n\\n매운 음식을 좋아한다면 신동궁감자탕 역삼직영점에서 매운 뼈숯불구이 를 도전해보시는 건 어떨까요? 꽤 매운 편 이라서 호불호가 갈릴 수 있으니 꼭! 매운 음식을 좋아하는 사람들이랑 가는 것을 추천드려요. 등뼈 사이사이에 낀 살이 부드럽게 발라지고, 중간중간 양배추 샐러드를 곁들여 먹거나 밥이랑 비벼 먹어도 좋아요. 다만 6시를 기준으로 사람들이 물밀 듯이 갈 수 있으니 웨이팅을 해야 할 수도 있습니다.\\n\\n  \\n\\n이상으로 역삼역 주변 맛집 리스트를 정리해보았는데요, 이번 글을 읽고 역삼역 인근의 맛집을 찾는데 도움이 되셨으면 좋겠습니다! 이상 읽어주셔서 감사합니다. 😁😁\\n\\n공유하기\\n\\nURL 복사 카카오톡 공유 페이스북 공유 엑스 공유\\n\\n게시글 관리\\n\\n_구독하기_pangpang\\n\\n#### 'SSAFY>SSAFYcial' 카테고리의 다른 글 [...] 8. 서울집\\n----------\\n\\nImage 10\\n\\n역삼역 맛집 8. 서울집\\n\\n키워드:#한식 #만두전골 #손만두 #도가니수육 #예약필수 #술\\n\\n도로명주소:서울 강남구 언주로93길 22-3 지상 1층\\n\\n맛있게 먹은 사람:77.35%(239 / 309)\\n\\n한 줄 평가: 손으로 직접 빚는 만두, 도가니 수육이 대박인 집!\\n\\n서울집은 손만두 전문점 으로 따끈하게 쪄서 나오는 손만두와 양이 푸짐하고 쫄깃함이 일품인 도가니 수육 이 맛있는 곳입니다. 역삼 인근에서 맛집으로 소문나서 예약을 하지 않고 방문 시 웨이팅을 해야 할 수도 있으니 가기 전에 예약하시는 걸 추천드려요! (저도 몇 번 그냥 갔다가 웨이팅 해야 했다는..) 특히 요즘 같이 쌀쌀한 날씨에 뜨끈~한 만두 전골에 도가니 수육까지 먹고 나면 긴장이 사르르 풀리는 그런 맛집입니다!\\n\\n9. 밀회관 역삼역점\\n---------------\\n\\nImage 11\\n\\n역삼역 맛집 9. 밀회관 역삼역점\",\n",
       "   'score': 0.8865877,\n",
       "   'raw_content': \"Published Time: 2023-11-19T21:02:08+09:00\\n\\n역삼역 주변 맛집 리스트\\n\\n===============\\n\\n[본문 바로가기](https://sam-repository.tistory.com/11#content)\\n\\n[pangpang](https://sam-repository.tistory.com/)\\n===============================================\\n\\n메뉴\\n\\n*   [분류 전체보기 (19)](https://sam-repository.tistory.com/category)\\n    *   [SSAFY (16)](https://sam-repository.tistory.com/category/SSAFY)\\n        *   [SSAFYcial (16)](https://sam-repository.tistory.com/category/SSAFY/SSAFYcial)\\n\\n    *   [알고리즘 (2)](https://sam-repository.tistory.com/category/%EC%95%8C%EA%B3%A0%EB%A6%AC%EC%A6%98)\\n        *   [백준 (1)](https://sam-repository.tistory.com/category/%EC%95%8C%EA%B3%A0%EB%A6%AC%EC%A6%98/%EB%B0%B1%EC%A4%80)\\n        *   [SWEA (0)](https://sam-repository.tistory.com/category/%EC%95%8C%EA%B3%A0%EB%A6%AC%EC%A6%98/SWEA)\\n\\n    *   [자바스크립트(JavaScript) (1)](https://sam-repository.tistory.com/category/%EC%9E%90%EB%B0%94%EC%8A%A4%ED%81%AC%EB%A6%BD%ED%8A%B8%28JavaScript%29)\\n    *   [HTML (0)](https://sam-repository.tistory.com/category/HTML)\\n\\nPOWERED BY TISTORY\\n\\n블로그 내 검색 검색\\n\\n* * *\\n\\nSSAFY/SSAFYcial\\n\\n역삼역 주변 맛집 리스트\\n=============\\n\\npangpang_i 2023. 11. 19. 21:02\\n\\n![Image 1](https://blog.kakaocdn.net/dna/eFKV4H/btsAvVcmvcj/AAAAAAAAAAAAAAAAAAAAAJR5eYtkqh3cqRXu6cAk0vSVwZ0ejUWZSb3NsHhP4lYx/img.jpg?credential=yqXZFxpELC7KVnFOS48ylbz2pIh7yKj8&expires=1751295599&allow_ip=&allow_referer=&signature=r%2Fu70X9K0WValWkDedW0DtfWvbw%3D)\\n\\n바로가기 목록\\n\\n*   [1. 칼국수 집이지만 감자전이 진짜 맛있는, **선덕칼국수**](https://sam-repository.tistory.com/11#1)\\n*   [2. 가성비 좋은 최상급 이베리코, **하몽하몽이베리코**](https://sam-repository.tistory.com/11#2)\\n*   [3. 멀리서 찾아와서도 먹는 닭볶음탕 찐맛집, **고갯마루**](https://sam-repository.tistory.com/11#3)\\n*   [4. 맑은 국물이 땅긴다, **이도곰탕**](https://sam-repository.tistory.com/11#4)\\n*   [5. 쫄깃한 화덕피자 도우가 일품인, **지아니스나폴리**](https://sam-repository.tistory.com/11#5)\\n*   [6. 매운치즈갈비찜이 진리, **갈비다움**](https://sam-repository.tistory.com/11#6)\\n*   [7. 한우 등심이 들어가는 부대찌개, **대우부대찌개**](https://sam-repository.tistory.com/11#7)\\n*   [8. 뜨~끈한 만두 전골과 쫄깃한 도가니 수육이 일품인, **서울집**](https://sam-repository.tistory.com/11#8)\\n*   [9. 눈이 즐거운 플래터와 분위기 좋은 공간, **밀회관**](https://sam-repository.tistory.com/11#9)\\n*   [10. 맛있게 매운 뼈찜으로 유명한, **신동궁감자탕**](https://sam-repository.tistory.com/11#10)\\n\\n안녕하세요, 이번 글은 **멀티캠퍼스 & 역삼역 주변의 추천 맛집 리스트**를 정리해보았습니다! 보다 빠른 검색을 위해 **#키워드 태그**를 넣었으니, **ctrl + F** 를 눌러 원하는 키워드를 검색(ex. 한식)하면 쉽고 빠르게 찾을 수 있어요. 10명 이상 많은 인원이 **회식하러 가기 좋은 식당**부터 **혼자 가기도 좋은 역삼역 맛집**까지 내돈내산 맛집 리스트를 탈탈 털어보았습니다!\\n\\n제가 직접 가본 식당 중 다른 분들도 맛있게 먹었다고 응답한 비율을 '**맛있게 먹은 사람**'이라는 지표로 만들어서 **해당 순위에 따라 정리**해보았습니다. 맛있게 먹은 사람 비율 선정 기준은 바로 아래에 정리해놓았습니다.\\n\\n### <참고> 맛있게 먹은 사람 비율 선정 기준\\n\\n![Image 2](https://blog.kakaocdn.net/dna/dIKstc/btsAyWBvkPM/AAAAAAAAAAAAAAAAAAAAAAJ_wFcTr_rlgHArBQ43bCjbeY8Md3VquvKSqr3bsKCb/img.jpg?credential=yqXZFxpELC7KVnFOS48ylbz2pIh7yKj8&expires=1751295599&allow_ip=&allow_referer=&signature=0haWARnF4qY%2F%2BYHpQWu9mN24t0I%3D)\\n\\n선덕칼국수 역삼본점의 맛있게 먹은 사람 비율\\n\\n'맛있게 먹은 사람' 비율 선정 기준은 **네이버 지도 > 해당 식당의 상세 페이지 > 리뷰 > 방문자 리뷰**를 바탕으로 작성했습니다. 작성일(2023년 11월 19일) 기준으로 작성한 글이라 해당 비율은 차이가 있을 수 있다는 점을 알려드립니다. 그리고 작성일 기준 전국에 지점이 100개 이상인 유명 프랜차이즈와 방문자 리뷰가 100건 미만인 지점은 선정 기준에 제외하고 골랐으니 참고하시면 좋겠습니다!\\n\\nTMI: 저는 다른 곳에서도 맛집을 판단하는 기준으로 방문자 대비 '음식이 맛잇어요'를 체크한 사람의 비율을 보고 결정해요 😊😊\\n\\n**1. 선덕칼국수 역삼본점**\\n-----------------\\n\\n![Image 3](https://blog.kakaocdn.net/dna/dpycGH/btsAwttHfBc/AAAAAAAAAAAAAAAAAAAAABwBqH9vTd9z1CJlY_P6TFqLLDUQoZl53vGnH1JN9YWD/img.jpg?credential=yqXZFxpELC7KVnFOS48ylbz2pIh7yKj8&expires=1751295599&allow_ip=&allow_referer=&signature=rikgWH%2B7P3JBRRdw7yCnUIBgNqQ%3D)\\n\\n역삼역 맛집 1. 선덕칼국수 역삼본점\\n\\n**키워드**:#한식 #닭칼국수 #감자전필수\\n\\n**도로명주소**:서울 강남구 테헤란로27길 29 주암빌딩 B1\\n\\n**맛있게 먹은 사람**:93.70%(1472 / 1571)\\n\\n**한 줄 평가****:**함께 먹으러 가면 감자전 이 필수인 칼국수 맛집!\\n\\n닭칼국수 는 깊은 닭육수와 싱싱한 파향, 쫄깃한 면발에 잘 베인 간이 일품인 메뉴에요. 바깥 바람이 차가워질수록 맛있어지는 겨울철에 생각나는 그런 맛입니다. 선덕칼국수에 가셨다면 무조건 감자전부터 시키세요!! 감자전은 겉은 감자채로 바삭하고 속은 간 감자를 넣어**겉바속쫀 감자전**이라 자꾸 생각나는 맛이에요!\\n\\n**2. 하몽하몽이베리코 역삼점**\\n-------------------\\n\\n![Image 4](https://blog.kakaocdn.net/dna/K19DL/btsAxF8svI6/AAAAAAAAAAAAAAAAAAAAAOBTlEW9Cb8ZEoE9DVhKsd0-7Rg4OPwcy0VxhWWakOiQ/img.jpg?credential=yqXZFxpELC7KVnFOS48ylbz2pIh7yKj8&expires=1751295599&allow_ip=&allow_referer=&signature=0rj%2B1AKBuhgl7ZInQwQ9aQZtiV4%3D)\\n\\n역삼역 맛집 2. 하몽하몽이베리코 역삼점\\n\\n**키워드**:#한식 #돼지고기 #이베리코 #회식\\n\\n**도로명주소**:서울 강남구 언주로93길 25 1층\\n\\n**맛있게 먹은 사람**:89.18%(808 / 906)\\n\\n**한 줄 평가**:최상급 이베리코 를 합리적인 가격으로 먹을 수 있는 곳!\\n\\n고기도 직원분들이 구워주시고 고기뿐만 아니라 밑반찬, 김치찌개, 비빔냉면 모두 다 맛있어요. 호불호가 안 갈리는 맛이라 고기를 먹고 싶은 날**소규모로 가도 좋고**, 자리가 많아서**단체 회식**을 하기에도 아주 좋은 곳이에요.\\n\\n**3. 고갯마루**\\n-----------\\n\\n![Image 5](https://blog.kakaocdn.net/dna/eh9xeb/btsAvjki9ro/AAAAAAAAAAAAAAAAAAAAAL4uVJb9A-62l5HnQNMFSmaqWJKTdNTjh2hV5a6GMyZx/img.jpg?credential=yqXZFxpELC7KVnFOS48ylbz2pIh7yKj8&expires=1751295599&allow_ip=&allow_referer=&signature=VP%2Fz%2B5o09lgqlPFLui31HEAWvcw%3D)\\n\\n역삼역 맛집 3. 고갯마루\\n\\n**키워드**: #한식 #닭볶음탕 #닭도리탕 #소규모모임 #예약필수\\n\\n**도로명주소**: 서울 강남구 테헤란로28길 27(고갯마루)\\n\\n**맛있게 먹은 사람**: 86.42%(280 / 324)\\n\\n**한 줄 평가****:**역삼역뿐만 아니라 서울 내에서도 닭도리탕 맛집 순위에 꼽는 찐맛집 고갯마루!\\n\\n고갯마루는 닭도리탕 맛집 이에요. 약불에서 천천히 졸이며 진해지는 국물과 잘 어울리는 닭고기와 큼직하게 썬 감자를 먹어보면 계속 생각나는 맛이에요. 마무리로 볶음밥까지 먹으면 천국..😇\\n\\n단, 주변 직장인들이 많이 찾고 닭볶음탕 요리 특성상 준비 시간이 꽤 걸리니(30~40분) **예약은 필수**! 좌식으로 되어 있어서 치마 입고 가기에는 불편할 수 있어요.\\n\\n**4. 이도곰탕 본점**\\n--------------\\n\\n![Image 6](https://blog.kakaocdn.net/dna/chehz3/btsAySMJRQD/AAAAAAAAAAAAAAAAAAAAAEe0m0fX_VlSGeUEVLicna5Xh2ldf6_SJgMVHV66GuTS/img.jpg?credential=yqXZFxpELC7KVnFOS48ylbz2pIh7yKj8&expires=1751295599&allow_ip=&allow_referer=&signature=mTGm19FNneCgnqkyu9XArPTXvo4%3D)\\n\\n역삼역 맛집 4. 이도곰탕 본점\\n\\n**키워드**:#한식 #곰탕 #수육도맛나요 #혼밥 #빠밥\\n\\n**도로명주소**:서울 강남구 논현로94길 29-5\\n\\n**맛있게 먹은 사람**: 83.25%(681 / 818)\\n\\n**한 줄 평가****:**깔끔하면서 깊이 있는 맑은 곰탕 이 당기는 날이면 이도곰탕에서 곰탕 한 그릇\\n\\n맑은 국물의 곰탕 인데 깔끔하면서도 깊이가 느껴지는 곰탕입니다. 역삼역 근처에서 저녁을 먹어야 할 때 혼밥하기도 좋아서 종종 가요. 곰탕 안에 들어간 고기도 많고 송송 썰린 파도 듬뿍 들어가서 먹고 난 후에 속도 편한 음식입니다!\\n\\n**5. 지아니스나폴리 역삼 본점**\\n--------------------\\n\\n![Image 7](https://blog.kakaocdn.net/dna/bpbOk7/btsAAPWiEQn/AAAAAAAAAAAAAAAAAAAAAJ90GSRzHgAotcEzjbuJR4ToGDjH_-sai6AB2hCK-tnk/img.jpg?credential=yqXZFxpELC7KVnFOS48ylbz2pIh7yKj8&expires=1751295599&allow_ip=&allow_referer=&signature=XV3ZtzTBtgcKqYxztdmfwvxtJvM%3D)\\n\\n역삼역 맛집 5. 지아니스나폴리 역삼 본점\\n\\n**키워드**:#양식 #이탈리아식 #파스타 #화덕피자 #와인 #데이트\\n\\n**도로명주소**: 서울 강남구 논현로94길 15 B1층\\n\\n**맛있게 먹은 사람**:81.44%(430 / 528)\\n\\n**한 줄 평가****:**역삼 화덕피자 & 파스타 맛집\\n\\n식전 빵부터 맛집 느낌이 물씬 나는 이탈리아 음식 전문점 입니다. 화덕피자와 파스타가 맛있는 레스토랑으로 유명한데 **가지라구라자냐**도 맛있어요. 마실 것도 식전주부터 다양한 와인까지 준비되어 있어서 양식을 찾는 분들께 추천 드려요! 개인적으로 분위기는 괜찮은데, 소리가 울리는 건지 공간이 시끄럽게 느껴진 게 아쉬웠어요.\\n\\n**6. 갈비다움 역삼본점**\\n----------------\\n\\n![Image 8](https://blog.kakaocdn.net/dna/mdQe8/btsAxiSJiQz/AAAAAAAAAAAAAAAAAAAAAOc1aiE_gLcCgqL0IjAbSY0hzyKdmDWY9EFa0kopEEgZ/img.jpg?credential=yqXZFxpELC7KVnFOS48ylbz2pIh7yKj8&expires=1751295599&allow_ip=&allow_referer=&signature=q2WQJDPZQfWuta21ejkWbf1FOKQ%3D)\\n\\n역삼역 맛집 6. 갈비다움 역삼본점\\n\\n**키워드**:#한식#갈비탕 #갈비찜 #수육\\n\\n**도로명주소**:서울 강남구 테헤란로25길 31\\n\\n**맛있게 먹은 사람**: 79.97%(555 / 694)\\n\\n**한 줄 평가****:**집 나간 입맛을 돌아오게 만드는 매운갈비찜 + 치즈 조합!\\n\\n갈비다움은 갈비, 특히 매운 갈비찜이 맛있는 곳이에요. 매운 갈비찜에 치즈를 추가 하면 자리에서 치즈를 토치로 구워주십니다. 갈비찜을 드실 때는 **계란찜**을 곁들여서 드시는 것을 추천드려요!! 마지막으로 **깍두기 볶음밥**까지 먹어주면 완벽한 한 끼 식사 완성!\\n\\n**7. 대우 부대찌개**\\n--------------\\n\\n![Image 9](https://blog.kakaocdn.net/dna/b5PUKN/btsAvlibpgT/AAAAAAAAAAAAAAAAAAAAALMQ1fAH75d5ewhfbrfSyEigA7MnS8lDYtHOQ2NmXxd9/img.jpg?credential=yqXZFxpELC7KVnFOS48ylbz2pIh7yKj8&expires=1751295599&allow_ip=&allow_referer=&signature=X9YK3ZKeL7nA%2BTgk2Nbnkf7b9rU%3D)\\n\\n역삼역 맛집 7. 대우 부대찌개\\n\\n**키워드**:#한식 #부대찌개 #등심부대찌개추천\\n\\n**도로명주소**: 서울 강남구 테헤란로25길 34\\n\\n**맛있게 먹은 사람**:78.43%(949 / 1210)\\n\\n**한 줄 평가**: 등심이 들어간 부대찌개 전문점\\n\\n다른 부대찌개집과는 다르게 등심~~(아쉽게도 냉동..)~~과 미나리 쑥갓 이 들어가 국물 맛이 시원하면서 깊은 게 특징인 부대찌개 맛집이에요. 대우 부대찌개의 부대찌개는 **햄과 소시지도 넉넉히** 들어가 있어요. 사리는 추가해서 먹어야 하지만 육수와 반찬은 리필이 가능해서 맛있는 부대찌개를 먹고 싶다면 여기를 추천드려요!\\n\\n**8. 서울집**\\n----------\\n\\n![Image 10](https://blog.kakaocdn.net/dna/mrgiC/btsAwr3JRi0/AAAAAAAAAAAAAAAAAAAAANUiPb7ThJdFfKt8DSXYdyVkPhCuCRVUXJWVP0V036h7/img.jpg?credential=yqXZFxpELC7KVnFOS48ylbz2pIh7yKj8&expires=1751295599&allow_ip=&allow_referer=&signature=ZaW1ksjgw9FnrwlK%2BhVKXEfUyXQ%3D)\\n\\n역삼역 맛집 8. 서울집\\n\\n**키워드**:#한식 #만두전골 #손만두 #도가니수육 #예약필수 #술\\n\\n**도로명주소**:서울 강남구 언주로93길 22-3 지상 1층\\n\\n**맛있게 먹은 사람**:77.35%(239 / 309)\\n\\n**한 줄 평가**: 손으로 직접 빚는 만두, 도가니 수육이 대박인 집!\\n\\n서울집은 손만두 전문점 으로 따끈하게 쪄서 나오는 손만두와 **양이 푸짐하고 쫄깃함이 일품**인 도가니 수육 이 맛있는 곳입니다. 역삼 인근에서 맛집으로 소문나서 예약을 하지 않고 방문 시 웨이팅을 해야 할 수도 있으니 가기 전에 예약하시는 걸 추천드려요! (저도 몇 번 그냥 갔다가 웨이팅 해야 했다는..) 특히 요즘 같이 쌀쌀한 날씨에 뜨끈~한 만두 전골에 도가니 수육까지 먹고 나면 긴장이 사르르 풀리는 그런 맛집입니다!\\n\\n**9. 밀회관 역삼역점**\\n---------------\\n\\n![Image 11](https://blog.kakaocdn.net/dna/nNCJb/btsAwrCC9SF/AAAAAAAAAAAAAAAAAAAAAP7OQMva_Gs9Y6B6eSdLp6ApNayw_8PtJ3PYYfGCvDoQ/img.jpg?credential=yqXZFxpELC7KVnFOS48ylbz2pIh7yKj8&expires=1751295599&allow_ip=&allow_referer=&signature=3wQcnJzqtIF73ZdJZzOv9VAGH8k%3D)\\n\\n역삼역 맛집 9. 밀회관 역삼역점\\n\\n**키워드**:#술 #플래터 #맥주 #하이볼 #논알콜도있어요 #와인 #단체회식\\n\\n**도로명주소**:서울 강남구 테헤란로33길 18 1층\\n\\n**맛있게 먹은 사람**:76.19%(432 / 567)\\n\\n**한 줄 평가**:눈이 즐거워지는 대용량 플래터 와 인테리어가 인상적인 맥주집!\\n\\n맥주, 하이볼, 와인, 논알콜 다양한 종류가 있어서 주종 상관 없이 취향껏 즐길 수 있어요. 무엇보다 여러 명이서 가서 플래터를 하나 시키면 맛있고 양이 많아서 남녀노소 누구나 즐길 수 있는 술집입니다. 뿐만 아니라 인테리어, 화장실도 깔끔해서 역삼역 회식 장소로 강추!\\n\\n**10. 신동궁감자탕 역삼직영점**\\n--------------------\\n\\n![Image 12](https://blog.kakaocdn.net/dna/tT0Kl/btsAzCiCQyR/AAAAAAAAAAAAAAAAAAAAAHJh1ugfokbcd5a_k4wdjdYxxyEWfAQhigqOd1yV-Xca/img.jpg?credential=yqXZFxpELC7KVnFOS48ylbz2pIh7yKj8&expires=1751295599&allow_ip=&allow_referer=&signature=%2BSGO%2FvPPvctj2Sg%2B9ZU%2Bvqh7X6Q%3D)\\n\\n역삼역 맛집 10. 신동궁감자탕 역삼직영점\\n\\n**키워드**:#한식 #뼈숯불구이 #감자탕 #양배추샐러드도맛도리 #많이매운편 #볶음밥도필수\\n\\n**도로명주소**: 서울 강남구 테헤란로10길 21 1층\\n\\n**맛있게 먹은 사람**: 73.77%(987 / 1338)\\n\\n**한 줄 평가****:**매운 음식을 좋아한다면 도전해볼만한 뼈숯불구이!\\n\\n매운 음식을 좋아한다면 신동궁감자탕 역삼직영점에서 매운 뼈숯불구이 를 도전해보시는 건 어떨까요? 꽤 매운 편 이라서 호불호가 갈릴 수 있으니 꼭! 매운 음식을 좋아하는 사람들이랑 가는 것을 추천드려요. 등뼈 사이사이에 낀 살이 부드럽게 발라지고, 중간중간 양배추 샐러드를 곁들여 먹거나 밥이랑 비벼 먹어도 좋아요. 다만 6시를 기준으로 사람들이 물밀 듯이 갈 수 있으니 **웨이팅을 해야 할 수도 있습니다**.\\n\\n* * *\\n\\n이상으로 역삼역 주변 맛집 리스트를 정리해보았는데요, 이번 글을 읽고 역삼역 인근의 맛집을 찾는데 도움이 되셨으면 좋겠습니다! 이상 읽어주셔서 감사합니다. 😁😁\\n\\n공유하기\\n\\nURL 복사 카카오톡 공유 페이스북 공유 엑스 공유\\n\\n게시글 관리\\n\\n_구독하기_**pangpang**\\n\\n#### '[SSAFY](https://sam-repository.tistory.com/category/SSAFY)>[SSAFYcial](https://sam-repository.tistory.com/category/SSAFY/SSAFYcial)' 카테고리의 다른 글\\n\\n| [리액트(React) 공부 시작하기](https://sam-repository.tistory.com/14)(3) | 2023.12.27 |\\n| --- |\\n| [SSAFY 1학기 최종 프로젝트 회고](https://sam-repository.tistory.com/13)(18) | 2023.11.30 |\\n| [[SSAFY/SSAFYcial] SSAFY 금융권 현직자 멘토링(우리은행 엘사 멘토님)](https://sam-repository.tistory.com/10)(18) | 2023.10.31 |\\n| [알고리즘 스터디 가이드](https://sam-repository.tistory.com/9)(14) | 2023.10.29 |\\n| [[SSAFY/SSAFYcial] 초보 개발자에게 유용한 Git 사용법](https://sam-repository.tistory.com/6)(1) | 2023.09.27 |\\n\\n태그\\n--\\n\\n[역삼 맛집](https://sam-repository.tistory.com/tag/%EC%97%AD%EC%82%BC%20%EB%A7%9B%EC%A7%91), [역삼 식당](https://sam-repository.tistory.com/tag/%EC%97%AD%EC%82%BC%20%EC%8B%9D%EB%8B%B9), [역삼 회식](https://sam-repository.tistory.com/tag/%EC%97%AD%EC%82%BC%20%ED%9A%8C%EC%8B%9D), [역삼역](https://sam-repository.tistory.com/tag/%EC%97%AD%EC%82%BC%EC%97%AD), [역삼역 맛집](https://sam-repository.tistory.com/tag/%EC%97%AD%EC%82%BC%EC%97%AD%20%EB%A7%9B%EC%A7%91), [역삼역 회식](https://sam-repository.tistory.com/tag/%EC%97%AD%EC%82%BC%EC%97%AD%20%ED%9A%8C%EC%8B%9D)\\n\\n**'SSAFY/SSAFYcial'** Related Articles\\n--------------------------------------\\n\\n*   [![Image 13](https://i1.daumcdn.net/thumb/C264x200/?fname=https%3A%2F%2Fblog.kakaocdn.net%2Fdna%2FBQ07B%2FbtsCLoo6FWn%2FAAAAAAAAAAAAAAAAAAAAAEyqJEQZK11Fwwj49SldZuXvK8M79YqAQ1MNHmxfZaLj%2Fimg.png%3Fcredential%3DyqXZFxpELC7KVnFOS48ylbz2pIh7yKj8%26expires%3D1751295599%26allow_ip%3D%26allow_referer%3D%26signature%3DPAtNHQJVQOOk8ksmtx9Rfb1mtLo%253D)리액트(React) 공부 시작하기](https://sam-repository.tistory.com/14?category=1121920)\\n*   [![Image 14](https://i1.daumcdn.net/thumb/C264x200/?fname=https%3A%2F%2Fblog.kakaocdn.net%2Fdna%2FIVQPx%2FbtsBeJ9i90s%2FAAAAAAAAAAAAAAAAAAAAAN3Mlg4tlOjBA-WevwtNS3cQ_OmRE7z27_4ZBPcGaaXA%2Fimg.png%3Fcredential%3DyqXZFxpELC7KVnFOS48ylbz2pIh7yKj8%26expires%3D1751295599%26allow_ip%3D%26allow_referer%3D%26signature%3DJnZMKZu4HsxZWS6YJAQkATaFql0%253D)SSAFY 1학기 최종 프로젝트 회고](https://sam-repository.tistory.com/13?category=1121920)\\n*   [![Image 15](https://i1.daumcdn.net/thumb/C264x200/?fname=https%3A%2F%2Fblog.kakaocdn.net%2Fdna%2FNUd3j%2FbtszwgomfOJ%2FAAAAAAAAAAAAAAAAAAAAAOENvJ5nBzAtxpDtGmZ0O4CYSRVpTyjyyQZWCmv3F_yO%2Fimg.jpg%3Fcredential%3DyqXZFxpELC7KVnFOS48ylbz2pIh7yKj8%26expires%3D1751295599%26allow_ip%3D%26allow_referer%3D%26signature%3DziRH2JxocxWFzGfRE5etyLocCi8%253D)[SSAFY/SSAFYcial] SSAFY 금융권 현직자 멘토링(우리은행 엘사 멘토님)](https://sam-repository.tistory.com/10?category=1121920)\\n*   [![Image 16](https://i1.daumcdn.net/thumb/C264x200/?fname=https%3A%2F%2Fblog.kakaocdn.net%2Fdna%2FcCV9dd%2Fbtszmz8FXej%2FAAAAAAAAAAAAAAAAAAAAAAsKhPgpThQC2u5dyEyqLjXwjdKa9PDgEio4YTOLSwsZ%2Fimg.jpg%3Fcredential%3DyqXZFxpELC7KVnFOS48ylbz2pIh7yKj8%26expires%3D1751295599%26allow_ip%3D%26allow_referer%3D%26signature%3DLjlAQjpyq8kd1fND4knScYtL%252BIg%253D)알고리즘 스터디 가이드](https://sam-repository.tistory.com/9?category=1121920)\\n\\n[](https://sam-repository.tistory.com/11#none)[](https://sam-repository.tistory.com/11#none)\\n\\n[](https://sam-repository.tistory.com/11#none)\\n\\n댓글\\n\\n- [x] 비밀글 등록\\n\\n* * *\\n\\nDESIGN BY [TISTORY](https://sam-repository.tistory.com/11#)[관리자](https://sam-repository.tistory.com/manage)\\n\\n티스토리툴바\\n------\\n\\n**pangpang**_구독하기_\\n\\n관리메뉴열기\\n\\n개인정보\\n----\\n\\n*   [티스토리 홈](https://www.tistory.com/)\\n*   [포럼](https://www.tistory.com/forum)\\n*   [로그인](https://sam-repository.tistory.com/11#)\\n\\n닫기\\n단축키\\n---\\n\\n### 내 블로그\\n\\n| 내 블로그 - 관리자 홈 전환 | Q Q |\\n| --- |\\n| 새 글 쓰기 | W W |\\n\\n### 블로그 게시글\\n\\n| 글 수정 (권한 있는 경우) | E E |\\n| --- |\\n| 댓글 영역으로 이동 | C C |\\n\\n### 모든 영역\\n\\n| 이 페이지의 URL 복사 | S S |\\n| --- |\\n| 맨 위로 이동 | T T |\\n| 티스토리 홈 이동 | H H |\\n| 단축키 안내 | Shift + / ⇧ + / |\\n\\n* 단축키는 한글/영문 대소문자로 이용 가능하며, 티스토리 기본 도메인에서만 동작합니다.\\n\"},\n",
       "  {'title': '블라블라: 역삼역 프로출근러의 점심 추천 맛집 풀어보아용☺ - Blind',\n",
       "   'url': 'https://www.teamblind.com/kr/post/%EC%97%AD%EC%82%BC%EC%97%AD-%ED%94%84%EB%A1%9C%EC%B6%9C%EA%B7%BC%EB%9F%AC%EC%9D%98-%EC%A0%90%EC%8B%AC-%EC%B6%94%EC%B2%9C-%EB%A7%9B%EC%A7%91-%ED%92%80%EC%96%B4%EB%B3%B4%EC%95%84%EC%9A%A9%E2%98%BA%EF%B8%8F-BVD3hD3r',\n",
       "   'content': '_작성일_ 2023.08.21._조회수_ 763 _댓글_ 26\\n\\n_북마크_\\n\\n   _copy link_ 링크복사\\n   _embed_ 퍼가기\\n\\n_메뉴 더보기_\\n\\n월요일인데 회사 일 말고 뭔가 나만의 하루를 보내기 위한 역삼 점심 맛집들 풀어보려구! 쓰다보니 1시간 가버렸네! 역삼 출근자들에게 도움 되길🙆🏻\\u200d♀️\\n\\n댓글로 새로운 맛집 추천 받아♥️ 미리 고마워~\\n\\n 한식 \\n\\n서울집) 손수 만드신 만두와 칼국수 메뉴들이고, 국물이 깔끔하다. 날 추워지면 생각나.\\n\\n복돈이 가마솥 순대국) 이 집 순대국이 역삼역 센터필드 방향 중 최고임!\\n\\n우리집) 뚝배기 닭볶음탕, 오징어볶음 자극적인 양념 맛이지만 양념 맛이 장난이 아닌 맛집.\\n\\n라비옥) 구운 갈비 먹고 싶은 날엔 무조건 라비옥! 정식도 있고 갈비 덮밥도 있고.\\n\\n갈비다움) 갈비탕을 안좋아하는데… 이 집은 인정이에요! 가격은 좀 있지만, 고기양도 좀 있고 국물이 매우 깔꼼~',\n",
       "   'score': 0.86136365,\n",
       "   'raw_content': 'Published Time: 2023-08-21T12:00:00.000Z\\n\\n블라인드 | 블라블라: 역삼역 프로출근러의 점심 추천 맛집 풀어보아용☺️\\n\\n===============\\n\\n[**블라인드** 기업서비스](https://www.blindhub.net/kr/)\\n\\n[blind](https://www.teamblind.com/kr/)_Topic_\\n=============================================\\n\\n*   [홈](https://www.teamblind.com/kr/)\\n*   [기업 리뷰](https://www.teamblind.com/kr/company)\\n*   [채용공고 blind Hire](https://www.teamblind.com/kr/topics/%EC%B1%84%EC%9A%A9-%EC%A0%84%EC%B2%B4)\\n*   [![Image 1: 숙박세일페스타](https://static.teamblind.com/img/www_kr/img-coupang-stay.svg)AD](https://link.coupang.com/a/cyOYiv)\\n\\n검색\\n==\\n\\n검색\\n\\n글쓰기 로그인\\n\\n[토픽](https://www.teamblind.com/kr/topics/%EC%A0%84%EC%B2%B4)[블라블라](https://www.teamblind.com/kr/topics/%EB%B8%94%EB%9D%BC%EB%B8%94%EB%9D%BC)·팔로우\\n================================================================================================================================================\\n\\n역삼역 프로출근러의 점심 추천 맛집 풀어보아용☺️\\n---------------------------\\n\\n새회사 · v****** \\n\\n_작성일_ 2023.08.21._조회수_ 763 _댓글_ 26\\n\\n_북마크_\\n\\n*   _copy link_ 링크복사\\n*   _embed_ 퍼가기\\n\\n_메뉴 더보기_\\n\\n월요일인데 회사 일 말고 뭔가 나만의 하루를 보내기 위한 역삼 점심 맛집들 풀어보려구! 쓰다보니 1시간 가버렸네! 역삼 출근자들에게 도움 되길🙆🏻\\u200d♀️\\n\\n댓글로 새로운 맛집 추천 받아♥️ 미리 고마워~\\n\\n ***한식*** \\n\\n서울집) 손수 만드신 만두와 칼국수 메뉴들이고, 국물이 깔끔하다. 날 추워지면 생각나.\\n\\n복돈이 가마솥 순대국) 이 집 순대국이 역삼역 센터필드 방향 중 최고임!\\n\\n우리집) 뚝배기 닭볶음탕, 오징어볶음 자극적인 양념 맛이지만 양념 맛이 장난이 아닌 맛집.\\n\\n라비옥) 구운 갈비 먹고 싶은 날엔 무조건 라비옥! 정식도 있고 갈비 덮밥도 있고.\\n\\n갈비다움) 갈비탕을 안좋아하는데… 이 집은 인정이에요! 가격은 좀 있지만, 고기양도 좀 있고 국물이 매우 깔꼼~\\n\\n네모오징어) 점심에만 시킬 수 있는 오징어 볶음류들 맛있고 마지막에 밥 넣고 비벼서 철판볶음판 처럼 해먹으면 꿀맛 !\\n\\n제주강국수) 일단 고기국수랑 국밥 인정 메달 드림 ㅎ\\n\\n민이한상) 고급지게 한 상 차림으로 솥밥 껴서 먹고 싶은 날엔 여기지\\n\\n속초코다리냉면) 꼭 만두랑 세트로 먹어주라 냉면. 킹인정 못하면 찾아와.\\n\\n소담길) 닭개장 먹어 꼭 먹어. 진짜 과식하게 하는 맛집 중 하나.\\n\\n방이옥) 제육볶음 맛있는데 파 냄새가 오래갈거야 ㅋㅋ 하지만 맛있어!\\n\\n전봇대) 콩국수부터 일반 국수 그리고 해물칼국수 존맛탱임\\n\\n심가네 칼국수) 칼국수가 참 맛나지~\\n\\n청수횟집) 생선구이 맛집이야. 여기 알면 진짜 당신도 프로 역삼러다 ㅋㅋ\\n\\n평가옥) 소고기 온반으로 점심 추천 든든 맛있음\\n\\n순남시래기) 구수한 밥상 차리고 싶은 날엔 여기지.\\n\\n****일식 & 아시아식***\\n\\n갓포돈) 역삼에서 점심에 가장 줄 많이 서는 돈까스 집 중 하나! 여름에만 가능한 모밀도 맛있음!\\n\\n쁘라텟타이) 버릴 메뉴없는 동남아 음식 최고 맛집! 하지만 가격 좀 있음\\n\\n백초밥) 가성비 끝판왕 구성의 일식집 초밥 튀김 다 괜춘!\\n\\n멘야유메미루) 마제소바 (먹고싶네)\\n\\n아리네술상) 연어 덮밥 존맛탱구리지. 요즘 잘 안열어서 짜증남 ㅜ\\n\\n진가와) 우동 맛집 대기가 많아서 자주 가진 않지만 잊을 만 할 때 한 번씩 감\\n\\n호타루) 점심에 대기 안 탄 날이 없는 일식 맛집.\\n\\n ***서양식*** \\n\\n스매쉬 치즈 버거) 새우버거 꼭 먹어봐! 후회되면 찾아 온나\\n\\n밸런스 포케) 억지로 샐러드를 먹어야만 하는 날에 찾는 곳인데 맛있음 ㅎㅎ\\n\\n알라보) 연어구이 볼로 꼭 먹어주라!!! 멀어서 자주 못갈 뿐 여기 인정!\\n\\n바스버거) 대기가 많아 자주 가진 않지만, 이 집을 빼 놓고 버거를 논할 수는 없지!\\n\\n카페413) 점심시간 널널 할 때 브런치 메뉴 즐기러 가기 딱 놓은 곳!\\n\\n스파게티스토리) 학창 시절 학교 앞 파스타집 맛임. 오븐 크림도 먹어주라. 내가 좋아해~ ㅋㅋ\\n\\n지아니스나폴리) 도저히 뺄 수 없는 양식 맛집!\\n\\n ***중식*** \\n\\n차이향) 세트메뉴 구성 잘 되어 있고, 자장면 짬뽕 괜찮고 마파두부도 괜찮아!\\n\\n양궈푸 마라탕) 마라탕 초보자를 위한 사골 육수 베이스의 마라탕집! 하이디라오 좋아하면 이건 좀 다른 류의 마라탕인데 하겠지만, 또 역삼에 이만한 마라탕 집이 없다는?! ->여기 주방장님 바뀜 이젠 안감…맛없어..\\n\\n명정루) 중화국밥 맛집이라능! 불맛 좋아하는 짬뽕러버들을 위한 집이지!\\n\\n안ㅅㅂ) 더이상 맛집이 아니라는..\\n\\n웨이웨이) 우삼겹 탄탄면 꼭 먹어봐! 튀김류는 그냥 그래 ㅎㅎ 나는 추천하진 않아ㅋ\\n\\n차알) 가격대는 앞서 말한 집들에 비해 높지만, 딱 정말 미국서 먹는 중국 요리 맛이 이거구나 하는 입에 착착 감기는 맛임.\\n\\n*   [![Image 2](https://d2u3dcdbebyaiu.cloudfront.net/img/action_tags/event.png) 공식 APPLE 브랜드관에서 쿠팡 특가로 지금 만나보세요](https://link.coupang.com/a/cq1q2O)\\n*   [![Image 3](https://d2u3dcdbebyaiu.cloudfront.net/img/action_tags/bleet.png) 직장인끼리 소개팅하러 가기💛 by 블라인드가 만든 소개팅앱](https://abr.ge/5zh0eu)\\n\\n_좋아요_ 12 _댓글_ 26\\n\\n_공유하기_ _카카오톡_ _페이스북_ _트위터_ _링크복사_ _퍼가기_\\n\\n공유하기\\n====\\n\\n카카오톡 페이스북 트위터\\n\\nhttps://www.teamblind.com/kr/post/역삼역-프로출근러의-점심-추천-맛집-풀어보아용☺️-BVD3hD3r\\n\\nURL복사\\n\\nclose\\n\\n연관 회사\\n-----\\n\\n*   [![Image 4: 프로](https://d2u3dcdbebyaiu.cloudfront.net/img/companyPage_kr/logo_30804.jpg)**프로**_Rating Score_ 3.3](https://www.teamblind.com/kr/company/%ED%94%84%EB%A1%9C/)\\n\\n### 댓글 26\\n\\n댓글을 남겨주세요.\\n\\n_파일 첨부하기_ \\n\\n*   - [x]  회사명 비공개     \\n\\n취소 등록\\n\\n 댓글 6개 더보기 \\n\\n[해안종합건축사사무소](https://www.teamblind.com/kr/company/%ED%95%B4%EC%95%88%EC%A2%85%ED%95%A9%EA%B1%B4%EC%B6%95%EC%82%AC%EC%82%AC%EB%AC%B4%EC%86%8C/) · q*******\\n\\n우와 이렇게 일목요연한 맛집 공유라니 정말 유용하다ㅠㅠ 고마워!!!\\n\\n_작성일_ 2023.08.28._좋아요수_ 좋아요 _대댓글_ 1\\n\\n*   _write comment_ 대댓글 쓰기\\n\\n_메뉴 더보기_\\n\\n새회사 · a********\\n\\n글쓴이) 도움이 되었다면 너무 다행이다^^\\n\\n_작성일_ 2023.09.10._좋아요수_ 1\\n\\n[현대모비스](https://www.teamblind.com/kr/company/%ED%98%84%EB%8C%80%EB%AA%A8%EB%B9%84%EC%8A%A4/) · i*******\\n\\n구영회참치&초밥\\n\\n_작성일_ 2023.09.10._좋아요수_ 좋아요 _대댓글_ 1\\n\\n*   _write comment_ 대댓글 쓰기\\n\\n_메뉴 더보기_\\n\\n새회사 · a********\\n\\n여기?? 음 나 여긴 좀 …ㅎㅎ 그래도 추천 고마워^^\\n\\n_작성일_ 2023.09.10._좋아요수_ 좋아요\\n\\n작성자가 삭제한 댓글입니다.\\n\\n새회사 · a********\\n\\n거긴 언주역이잖아 친구야…너무해. 이 글은 역삼역이라고 ㅋㅋㅋ\\n\\n_작성일_ 2023.09.10._좋아요수_ 좋아요\\n\\n새회사 · a********\\n\\n그래 그러지뭐 ㅎ 이번 기회에 논현칼국수도 가볼게🤍\\n\\n_작성일_ 2023.09.15._좋아요수_ 좋아요\\n\\n[NAVER](https://www.teamblind.com/kr/company/NAVER/) · l*********\\n\\nㅇㄷ\\n\\n_작성일_ 2023.11.01._좋아요수_ 좋아요 _대댓글_ 대댓글\\n\\n*   _write comment_ 대댓글 쓰기\\n\\n_메뉴 더보기_\\n\\n스타트업 · h****\\n\\n언니 짱이당\\n\\n_작성일_ 2024.02.04._좋아요수_ 좋아요 _대댓글_ 대댓글\\n\\n*   _write comment_ 대댓글 쓰기\\n\\n_메뉴 더보기_\\n\\n[유엘코리아](https://www.teamblind.com/kr/company/%EC%9C%A0%EC%97%98%EC%BD%94%EB%A6%AC%EC%95%84/) · M*****\\n\\n나랑 같이 가실분 점심메이트\\n\\n_작성일_ 2024.04.25._좋아요수_ 좋아요 _대댓글_ 대댓글\\n\\n*   _write comment_ 대댓글 쓰기\\n\\n_메뉴 더보기_\\n\\n스타트업 · |********\\n\\n배고파ㅠ\\n\\n_작성일_ 2024.04.25._좋아요수_ 좋아요 _대댓글_ 대댓글\\n\\n*   _write comment_ 대댓글 쓰기\\n\\n_메뉴 더보기_\\n\\n[여기어때컴퍼니](https://www.teamblind.com/kr/company/%EC%97%AC%EA%B8%B0%EC%96%B4%EB%95%8C%EC%BB%B4%ED%8D%BC%EB%8B%88/) · j*********\\n\\n저번에 동남회관에서 저녁 삼겹살 회식했었는데. \\n\\n맛있어서 점심특선먹으러 낮에 제육볶음 먹어봤는데 \\n\\n불맛나고 존맛탱이었음!\\n\\n_작성일_ 2024.05.23._좋아요수_ 좋아요 _대댓글_ 대댓글\\n\\n*   _write comment_ 대댓글 쓰기\\n\\n_메뉴 더보기_\\n\\n[사이넥스](https://www.teamblind.com/kr/company/%EC%82%AC%EC%9D%B4%EB%84%A5%EC%8A%A4/) · 𓆝*******\\n\\nㅇㄷ\\n\\n_작성일_ 2024.05.28._좋아요수_ 좋아요 _대댓글_ 대댓글\\n\\n*   _write comment_ 대댓글 쓰기\\n\\n_메뉴 더보기_\\n\\n[DELL](https://www.teamblind.com/kr/company/%EB%8D%B8%EC%9D%B8%ED%84%B0%EB%82%B4%EC%85%94%EB%84%90/) · L*****\\n\\n역삼역 맛집 ㅇㄷ\\n\\n_작성일_ 05.12 _좋아요수_ 좋아요 _대댓글_ 대댓글\\n\\n*   _write comment_ 대댓글 쓰기\\n\\n_메뉴 더보기_\\n\\n블라블라 추천 글\\n---------\\n\\n### 3사이즈\\n\\n키 165cm고\\n\\n새회사 · l*********\\n\\n조회수 211 좋아요 2\\n\\n### 원래 대기업 취업해도\\n\\n이공계열 아니면 첫 월급 300 다들 안되는거야?\\n\\nCJ프레시웨이 · |*********\\n\\n조회수 1915 좋아요 3\\n\\n### 이번생 결혼 포기각인데...\\n\\n이제 30대 시작하는 남자임.\\n\\n동원건설산업 · I*********\\n\\n조회수 230 좋아요 1\\n\\n### 물 마시기 힘든 사람?\\n\\n변비 심한 20대 여잔데 물이라도 많이 마셔보려고 노력중이거든? 근데 잘 안 돼\\n\\n새회사 · i*********\\n\\n조회수 138 좋아요 2\\n\\n### 블라 만남 후기\\n\\n정말 못생겻는데 성격은 좋았더ㅠ\\n\\n한국수자원공사 · i********\\n\\n조회수 449 좋아요 0\\n\\n### 스타벅스 프리퀀시\\n\\n개빡치네 2주넘게 도전하고 있는데 이거 성공한 사람은 어떤사람이냐\\n\\nNAVER · s*******\\n\\n조회수 256 좋아요 5\\n\\n### 맞후임이 너무 이쁨 ㅜ\\n\\n아니 후임이 들어왔는데 진짜 이쁨\\n\\n새회사 · 샣**\\n\\n조회수 581 좋아요 5\\n\\n### 스벅 손절할게\\n\\n프리퀀시 이벤트로 사람농락도 작작해야지..\\n\\n약사 · 코******\\n\\n조회수 330 좋아요 9\\n\\n### 커피먹지마라\\n\\n이 착색된다\\n\\nCOUPANG · 굿******\\n\\n조회수 77 좋아요 2\\n\\n### 박물관인데 바깥일 하는 청소노동자에게 물도 안사주는거 보고 뇌절\\n\\n울 어무니 친구분 이야기다.\\n\\n공무원 · 1*******\\n\\n조회수 199 좋아요 2\\n\\n토픽 베스트\\n------\\n\\n주류탐험\\n\\n### 토열마무리는 고숙성으로\\n\\n동방명 링크우드 1992 32년\\n\\n신한라이프 · a*****\\n\\n조회수 135 좋아요 1\\n\\n반려동물\\n\\n### 주인님 일어나세요\\n\\n집사 콤퓨타 좀 씁시다..\\n\\n공무원 · l*********\\n\\n조회수 155 좋아요 8\\n\\n이직·커리어\\n\\n### 기업은행 신입사원 월 평균 실수령 480?\\n\\n그럼 4대은행은 얼마나 더 받는 거? 실수령 480이면 연봉 7천인데, 4대은행도 아니고 기은이 신입한테 이 연봉이 가능해?\\n\\n삼일회계법인 · j*****\\n\\n조회수 9784 좋아요 6\\n\\n정신건강·심리상담\\n\\n### 외롭고 우울할때\\n\\n본인만의 대처법 공유해 주시면 감사하겠습니다\\n\\n삼정KPMG · I********\\n\\n조회수 118 좋아요 2\\n\\n결혼생활\\n\\n### 보통 와이프가 무거운거 들면 들어주나?\\n\\n회사 마치고 남편 만났는데\\n\\n스타트업 · r*******\\n\\n조회수 14852 좋아요 47\\n\\n패션·뷰티\\n\\n### 브래지어 관련 도움 좀 줄래 애들아.. ㅠㅠ\\n\\n내가 가난해서 15년전 산 브래지어 삭고 헤지고 구멍나도 입고 다녔는데\\n\\n새회사 · |*********\\n\\n조회수 368 좋아요 0\\n\\n주식·투자\\n\\n### 월요일에 들어가기 좋은 주식 추천좀\\n\\n부탁드립니다 형님덜..!\\n\\n공무원 · !*********\\n\\n조회수 2650 좋아요 3\\n\\n성격유형\\n\\n### ISTP 친구들\\n\\n주말에 아예 연락 안하는 사람들도 있니\\n\\n새회사 · I*****\\n\\n조회수 118 좋아요 0\\n\\n직접 홍보\\n\\n### 한우투뿔 댓글 무료이벤트2\\n\\n네이버 평점 5.0 공돌이한우! 홍보비 대신 드리는 진짜 이벤트\\n\\n새회사 · I*****\\n\\n조회수 136 좋아요 4\\n\\n직장인 취미생활\\n\\n### 와이프가 삼성전자 임직원인데 폰을 안바꿔줘요\\n\\n제 와이프가 삼성전자 다니는데 휴대폰 임직원 할인가에 살수 있는데 폰을 안사줍니다\\n\\n자화전자 · T*****\\n\\n조회수 638 좋아요 2\\n\\n블라블라 추천 글\\n=========\\n\\n[3사이즈](https://www.teamblind.com/kr/post/3%EC%82%AC%EC%9D%B4%EC%A6%88-ozd0ngqs)[원래 대기업 취업해도](https://www.teamblind.com/kr/post/%EC%9B%90%EB%9E%98-%EB%8C%80%EA%B8%B0%EC%97%85-%EC%B7%A8%EC%97%85%ED%95%B4%EB%8F%84-3m54hhru)[이번생 결혼 포기각인데...](https://www.teamblind.com/kr/post/%EC%9D%B4%EB%B2%88%EC%83%9D-%EA%B2%B0%ED%98%BC-%ED%8F%AC%EA%B8%B0%EA%B0%81%EC%9D%B8%EB%8D%B0-ily5tah5)[물 마시기 힘든 사람?](https://www.teamblind.com/kr/post/%EB%AC%BC-%EB%A7%88%EC%8B%9C%EA%B8%B0-%ED%9E%98%EB%93%A0-%EC%82%AC%EB%9E%8C-jzggae6j)[블라 만남 후기](https://www.teamblind.com/kr/post/%EB%B8%94%EB%9D%BC-%EB%A7%8C%EB%82%A8-%ED%9B%84%EA%B8%B0-bnd0j5e6)[스타벅스 프리퀀시](https://www.teamblind.com/kr/post/%EC%8A%A4%ED%83%80%EB%B2%85%EC%8A%A4-%ED%94%84%EB%A6%AC%ED%80%80%EC%8B%9C-v1w81fds)[맞후임이 너무 이쁨 ㅜ](https://www.teamblind.com/kr/post/%EB%A7%9E%ED%9B%84%EC%9E%84%EC%9D%B4-%EB%84%88%EB%AC%B4-%EC%9D%B4%EC%81%A8-%E3%85%9C-jp3xptmd)[스벅 손절할게](https://www.teamblind.com/kr/post/%EC%8A%A4%EB%B2%85-%EC%86%90%EC%A0%88%ED%95%A0%EA%B2%8C-u2lkx2ab)[커피먹지마라](https://www.teamblind.com/kr/post/%EC%BB%A4%ED%94%BC%EB%A8%B9%EC%A7%80%EB%A7%88%EB%9D%BC-wt4ppbo0)[박물관인데 바깥일 하는 청소노동자에게 물도 안사주는거 보고 뇌절](https://www.teamblind.com/kr/post/%EB%B0%95%EB%AC%BC%EA%B4%80%EC%9D%B8%EB%8D%B0-%EB%B0%94%EA%B9%A5%EC%9D%BC-%ED%95%98%EB%8A%94-%EC%B2%AD%EC%86%8C%EB%85%B8%EB%8F%99%EC%9E%90%EC%97%90%EA%B2%8C-%EB%AC%BC%EB%8F%84-%EC%95%88%EC%82%AC%EC%A3%BC%EB%8A%94%EA%B1%B0-%EB%B3%B4%EA%B3%A0-%EB%87%8C%EC%A0%88-xsxf3hjq)\\n\\n토픽 베스트\\n======\\n\\n[주류탐험 토열마무리는 고숙성으로](https://www.teamblind.com/kr/post/%ED%86%A0%EC%97%B4%EB%A7%88%EB%AC%B4%EB%A6%AC%EB%8A%94-%EA%B3%A0%EC%88%99%EC%84%B1%EC%9C%BC%EB%A1%9C-uo4jmxq2)[반려동물 주인님 일어나세요](https://www.teamblind.com/kr/post/%EC%A3%BC%EC%9D%B8%EB%8B%98-%EC%9D%BC%EC%96%B4%EB%82%98%EC%84%B8%EC%9A%94-33nsatxp)[이직·커리어 기업은행 신입사원 월 평균 실수령 480?](https://www.teamblind.com/kr/post/%EA%B8%B0%EC%97%85%EC%9D%80%ED%96%89-%EC%8B%A0%EC%9E%85%EC%82%AC%EC%9B%90-%EC%9B%94-%ED%8F%89%EA%B7%A0-%EC%8B%A4%EC%88%98%EB%A0%B9-480-q08so3sj)[정신건강·심리상담 외롭고 우울할때](https://www.teamblind.com/kr/post/%EC%99%B8%EB%A1%AD%EA%B3%A0-%EC%9A%B0%EC%9A%B8%ED%95%A0%EB%95%8C-4wvwae1w)[결혼생활 보통 와이프가 무거운거 들면 들어주나?](https://www.teamblind.com/kr/post/%EB%B3%B4%ED%86%B5-%EC%99%80%EC%9D%B4%ED%94%84%EA%B0%80-%EB%AC%B4%EA%B1%B0%EC%9A%B4%EA%B1%B0-%EB%93%A4%EB%A9%B4-%EB%93%A4%EC%96%B4%EC%A3%BC%EB%82%98-ti77r6j0)[패션·뷰티 브래지어 관련 도움 좀 줄래 애들아.. ㅠㅠ](https://www.teamblind.com/kr/post/%EB%B8%8C%EB%9E%98%EC%A7%80%EC%96%B4-%EA%B4%80%EB%A0%A8-%EB%8F%84%EC%9B%80-%EC%A2%80-%EC%A4%84%EB%9E%98-%EC%95%A0%EB%93%A4%EC%95%84-%E3%85%A0%E3%85%A0-53juexta)[주식·투자 월요일에 들어가기 좋은 주식 추천좀](https://www.teamblind.com/kr/post/%EC%9B%94%EC%9A%94%EC%9D%BC%EC%97%90-%EB%93%A4%EC%96%B4%EA%B0%80%EA%B8%B0-%EC%A2%8B%EC%9D%80-%EC%A3%BC%EC%8B%9D-%EC%B6%94%EC%B2%9C%EC%A2%80-57gijxgo)[성격유형 ISTP 친구들](https://www.teamblind.com/kr/post/ISTP-%EC%B9%9C%EA%B5%AC%EB%93%A4-s3moownb)[직접 홍보 한우투뿔 댓글 무료이벤트2](https://www.teamblind.com/kr/post/%ED%95%9C%EC%9A%B0%ED%88%AC%EB%BF%94-%EB%8C%93%EA%B8%80-%EB%AC%B4%EB%A3%8C%EC%9D%B4%EB%B2%A4%ED%8A%B82-lgwv8he8)[직장인 취미생활 와이프가 삼성전자 임직원인데 폰을 안바꿔줘요](https://www.teamblind.com/kr/post/%EC%99%80%EC%9D%B4%ED%94%84%EA%B0%80-%EC%82%BC%EC%84%B1%EC%A0%84%EC%9E%90-%EC%9E%84%EC%A7%81%EC%9B%90%EC%9D%B8%EB%8D%B0-%ED%8F%B0%EC%9D%84-%EC%95%88%EB%B0%94%EA%BF%94%EC%A4%98%EC%9A%94-klsz7lbk)\\n\\n![Image 5](https://www.teamblind.com/kr/)\\n\\nclose\\n\\n[서비스 소개](https://www.teamblind.com/kr/introduce)[이용약관](https://kr.teamblind.com/setting/term)[디렉토리](https://www.teamblind.com/kr/sitemap)[개인정보 처리방침](https://kr.teamblind.com/setting/privacy)[광고 문의](https://maddening-expert-59b.notion.site/Blind-AD-822f3ccc1cfd411abfdd217e0b938dc2)[인재채용](https://recruit.teamblind.com/)[블라인드 기업서비스](https://www.blindhub.net/kr/)[신고가이드](https://www.teamblind.com/kr/report-guide)\\n직업정보제공사업 신고번호 : _J1200020230022_\\n\\n© 2025 Teamblind Inc.\\n\\nAPP STORE GOOGLE PLAY\\n\\nScroll to top\\n\\n블라인드 앱에서 더 많은 컨텐츠를 이용하실 수 있어요.\\n==============================\\n\\n**회사 인증하고!**\\n뉴스보다 빠른 우리회사\\n\\n핫이슈를 확인해보세요.\\n\\n같은 업계, 같은 직군 사람들과\\n\\n즐겁게 이야기를 나눠보세요.\\n\\n이직, 커리어부터\\n\\n회사 생활 조언까지\\n\\n_APP STORE_ _앱 다운로드_ _GOOGLE PLAY_ _앱 다운로드_\\n\\nclose\\n'},\n",
       "  {'title': '역삼역 맛집 리스트 2년차 직장인 또간집 TOP 30 - 네이버 블로그',\n",
       "   'url': 'https://m.blog.naver.com/je3355je/223613149295',\n",
       "   'content': '6. 돈우정\\n\\n돈우정 서울특별시 강남구 봉은사로30길 73 1층\\n\\n이 블로그의 체크인\\n\\n이 장소의 다른 글\\n\\n7. 명정루\\n\\n명정루 역삼점 서울특별시 강남구 논현로94길 19 1층 명정루\\n\\n이 블로그의 체크인\\n\\n이 장소의 다른 글\\n\\n\\u200b\\n\\n8. 아리네술상\\n\\n아리네술상 서울특별시 강남구 논현로94길 11 지하 1층\\n\\n이 블로그의 체크인\\n\\n이 장소의 다른 글\\n\\n9. 민들레떡볶이\\n\\n민들레떡볶이 서울특별시 강남구 논현로94길 11 2층\\n\\n이 블로그의 체크인\\n\\n이 장소의 다른 글\\n\\n10. 지아니스나폴리\\n\\n지아니스나폴리 역삼 본점 서울특별시 강남구 논현로94길 15 B1층\\n\\n이 블로그의 체크인\\n\\n이 장소의 다른 글\\n\\n\\u200b\\n\\n자주 갔던 식당 10곳은 지도 첨부했습니다.\\n\\n대한민국 직장인 파이팅입니다 ♥\\n\\n\\u200b\\n\\nImage 11\\n\\n\\u200b\\n\\n_이웃추가 하시면 전국 맛집 방방 곳곳_\\n\\n_구경하실 수 있습니다 .♡_\\n\\n_\\u200b_',\n",
       "   'score': 0.8282873,\n",
       "   'raw_content': '역삼역 맛집 리스트 2년차 직장인 또간집 TOP 30 : 네이버 블로그\\n\\n===============\\n\\n![Image 1](https://ssl.pstatic.net/static/blog/sp_blog72.png)![Image 2](https://ssl.pstatic.net/static/blog/sp_blog_se3_6.png)\\n\\n[로그인이 필요합니다.](https://m.blog.naver.com/je3355je/223613149295#)\\n*   [내소식](https://m.blog.naver.com/News.naver)\\n*   [이웃목록](https://m.blog.naver.com/GoMyBuddyList.naver)\\n*   [통계](https://m.blog.naver.com/BlogStat.naver)\\n*   [클립만들기](https://m.blog.naver.com/je3355je/223613149295)\\n*   [글쓰기](https://m.blog.naver.com/je3355je/223613149295)\\n\\n[_My Menu 닫기_](https://m.blog.naver.com/je3355je/223613149295)\\n\\n[내 체크인](https://m.blog.naver.com/CheckIn.naver)[최근 본 글](https://m.blog.naver.com/ReadHistoryList.naver)[내 동영상](https://m.blog.naver.com/MyVideo.naver)[내 클립](https://m.blog.naver.com/ClipList.naver)\\n\\n* * *\\n\\n[내 상품 관리 NEW](https://m.blog.naver.com/je3355je/223613149295)[마켓 플레이스 NEW](https://m.blog.naver.com/MarketPlace.naver)[장바구니](https://m.blog.naver.com/Cart.naver)[마켓 구매내역](https://new-m.pay.naver.com/historybenefit/paymenthistory)\\n\\n* * *\\n\\n[블로그팀 공식블로그 NEW](https://m.blog.naver.com/PostList.naver?blogId=blogpeople)[이달의 블로그](https://m.blog.naver.com/PopularBlog.naver)[공식 블로그](https://m.blog.naver.com/OfficialBlog.naver)[블로그 앱](https://m.blog.naver.com/je3355je/223613149295)\\n\\n* * *\\n\\n[로그인](https://m.blog.naver.com/je3355je/223613149295)[PC버전으로 보기](https://blog.naver.com/je3355je/223613149295?viewType=pc)[블로그 고객센터](https://help.naver.com/alias/blog/etc/bl_code_01.naver)\\n\\n[![Image 3: 섬네일](https://m.blog.naver.com/je3355je/223613149295)](https://m.blog.naver.com/je3355je/223613149295)\\n\\n[ⓒ NAVER Corp.](https://www.navercorp.com/)\\n\\n[본문 바로가기](https://m.blog.naver.com/je3355je/223613149295#ct)\\n\\n[블로그](https://m.blog.naver.com/Recommendation.naver)\\n====================================================\\n\\n[카테고리 이동](https://m.blog.naver.com/je3355je/223613149295#)[팔도 맛집 탐방하기](https://m.blog.naver.com/PostList.naver?blogId=je3355je)\\n-------------------------------------------------------------------------------------------------------------------------------\\n\\n[검색](https://m.blog.naver.com/PostSearchList.naver?blogId=je3355je)MY메뉴 열기\\n\\n[맛집 모음](https://m.blog.naver.com/PostList.naver?blogId=je3355je&categoryNo=52&logCode=0&categoryName=%EB%A7%9B%EC%A7%91+%EB%AA%A8%EC%9D%8C#postlist_block)\\n\\n역삼역 맛집 리스트 2년차 직장인 또간집 TOP 30\\n\\n[![Image 4: 프로필](https://blogpfthumb-phinf.pstatic.net/MjAyMzExMjlfMjQy/MDAxNzAxMjI1NjQwMDcx.S7yOVyHEwlY1UkFqqndKaB2vKnb0VJFAcgu10HHlPKwg.-kmsWi5f0U1AGySnIVa0JPrOvEnRh3WFHCbpF7WMeDcg.JPEG.je3355je/profileImage.jpg?type=s1)](https://m.blog.naver.com/PostList.naver?blogId=je3355je)\\n\\n[**오션**](https://m.blog.naver.com/PostList.naver?blogId=je3355je)\\n\\n2024. 10. 10. 8:10\\n\\n[이웃추가](https://m.blog.naver.com/je3355je/223613149295#)\\n\\n본문 기타 기능\\n\\n*   **본문 폰트 크기 조정**본문 폰트 크기 작게 보기 본문 폰트 크기 크게 보기 가\\n*   [_공감_](https://m.blog.naver.com/je3355je/223613149295#)  \\n*   [공유하기](https://m.blog.naver.com/je3355je/223613149295#)\\n*   [URL복사](https://m.blog.naver.com/je3355je/223613149295#)\\n*   [신고하기](https://m.blog.naver.com/je3355je/223613149295#)\\n\\n[위치 카즈야](https://m.place.naver.com/place/86771976)\\n\\n[![Image 5](https://mblogthumb-phinf.pstatic.net/MjAyNDEwMTVfMTQw/MDAxNzI4OTczMTMyMjI2.2Qc8yvXzL_RzLVWTQcHzU8woU1qkuxzihE05l_ujm7Yg.Q9GhiECR9W_XvSiKO0izkpf_m_Oi9IjqG1zMnLBYlJYg.JPEG/003.jpg?type=w800)](https://m.blog.naver.com/je3355je/223613149295)\\n\\n\\u200b\\n\\n\\u200b\\n\\n방문을 환영합니다~\\n\\n[![Image 6](https://storep-phinf.pstatic.net/ogq_5ebebeedf0c9a/original_16.png?type=p100_100)](https://m.blog.naver.com/je3355je/223613149295#)\\n\\n저는 2년동안 역삼역 근처 여러 맛집에서\\n\\n점심&저녁을 먹었습니다.\\n\\n\\u200b\\n\\n그 중 맛있었던 곳만 모아둔\\n\\n**맛집/카페/술집 리스트 무료 배포합니다!**\\n\\n**오션 또간집 레츠기릿~~!**\\n\\n[![Image 7](https://storep-phinf.pstatic.net/ogq_5ebebeedf0c9a/original_1.png?type=p100_100)](https://m.blog.naver.com/je3355je/223613149295#)\\n\\n[![Image 8](https://mblogthumb-phinf.pstatic.net/MjAyNDA1MDVfMTky/MDAxNzE0OTA0NzA0MjE4.nQnfUlw_KCd2IYcsxW2-WnTKtnN4y0gH8d3s0lBOBlQg.PfbtKtfHUVm1VxHjg9q9kMJD18qURd2HbifbVeCsoMQg.JPEG/IMG%EF%BC%BF4859.JPG?type=w800)](https://m.blog.naver.com/je3355je/223613149295)\\n\\n\\u200b\\n\\n역삼역 근처에서 식사를 자주 하신다면\\n\\n저장하시고 뭐먹을지 고민될 때마다 보세요^^\\n\\n특히 친절하시고 맛있는 곳은 하단에 지도 첨부했어요.\\n\\n\\u200b\\n\\n**No.****종류****상호명****자주 먹은 메뉴****주소****거리**\\n1 한식 뚝배기양평해장국 역삼직영점 뼈해장국 서울 강남구 테헤란로27길 36 1층 뚝배기양평해장국 역삼역 8번 출구에서 372m\\n2 일식 스노우폭스 역삼 GFC점 필라델피아롤, 와규스테이크스시 서울 강남구 테헤란로 152 강남파이낸스센터 지하2층 역삼역 2번 출구에서 27m\\n3 중식 명정루 간짜장, 짬뽕 서울 강남구 논현로 94길 19 1층 역삼역 7번 출구에서 270m\\n4 한식 본죽&비빔밥cafe 역삼역점 삼계죽 서울 강남구 봉은사로30길 78 2층 역삼역 7번 출구에서 212m\\n5 한식 모퉁이식당 고등어김치찜 서울 강남구 테헤란로14길 33 2층 역삼역 3번 출구에서 510m\\n6 한식 오성식당 역삼 쌈돼지김치찌개 서울 강남구 테헤란로33길 13 2층 역삼역 8번 출구에서 335m\\n7 샐러드 뷰티풀샐러드&도시락 목살샐러드 서울 강남구 테헤란로33길 26 1층 역삼역 8번 출구에서 428m\\n8 햄버거 바스버거 역삼직영점 바스버거 서울 강남구 테헤란로26길 10 성보빌딩 지하1층 역삼역 3번 출구에서 89m\\n9 한식술집 카즈야 김치우동 서울 강남구 테헤란로27길 8-4 늘봄빌딩 1층 역삼역 8번 출구에서 206m\\n10 분식 민들레떡볶이 우삼겹떡볶이+튀김세트 서울 강남구 논현로94길 11 2층 역삼역 7번 출구에서 217m\\n11 일식 호타루 소유라멘, 규동 서울 강남구 테헤란로25길 9-10 역삼역 4번 출구에서 147m\\n12 햄버거 스매쉬치즈버거 스매쉬새우버거 서울 강남구 강남대로94길 89 역삼역 4번 출구에서 142m\\n13 한식 내림손삼계탕 역삼점 일반 반계탕 서울 강남구 논현로 428 역삼역 1번 출구에서 241m\\n14 베트남식 분짜라붐 역삼점 하노이 쌀국수 서울 강남구 테헤란로25길 13 1-2층 역삼역 4번 출구에서 140m\\n15 한식 돈우정 김치찌개, 육회비빔밥 서울 강남구 봉은사로30길 73 1층 역삼역 7번 출구에서 255m\\n16 한식 이도곰탕 본점 한우곰탕 서울 강남구 논현로94길 29-5 역삼역 8번 출구에서 359m\\n17 한식 진대감 역삼점 한우차돌짬뽕라면밥상 서울 강남구 봉은사로30길 75 1층 역삼역 7번 출구에서 228m\\n18 이탈리아식 지아니스나폴리 역삼 본점 점심 피자 서울 강남구 논현로94길 15 B1층 역삼역 7번 출구에서 267m\\n19 카페 타우너스 에스프레소 바 역삼점 데미타세 아포가토 서울 강남구 테헤란로28길 41 타우너스 1층 역삼역 1번 출구에서 446m\\n20 카페 스타벅스 GS타워점 돌체라떼 서울 강남구 논현로 508-2 역삼역 7번 출구에서 182m\\n21 카페 뮬리 아메리카노 서울 강남구 논현로93길 6 1층 역삼역 6번 출구에서 160m\\n22 카페 터프커피 자몽허니블랙티 서울 강남구 테헤란로25길 19 1층 역삼역 6번 출구에서 187m\\n23 카페 아티제 역삼역점 아메리카노 서울 강남구 테헤란로 203 서울인터내셔널타워 역삼역 8번 출구에서 122m\\n24 카페 지오바네커피 아인슈페너 서울 강남구 논현로98길 5 1층 101호 역삼역 7번 출구에서 316m\\n25 카페 루스터 아몬드 아인슈페너 서울 강남구 논현로86길 22 1층 역삼역 1번 출구에서 319m\\n26 카페 커피사피엔스 역삼 푸르지오점 에이드,수박주스 서울 강남구 논현로85길 52 푸르지오시티 101호 역삼역 3번 출구에서 326m\\n28 이자카야 아리네술상 생연어덮밥,연어랑육회랑 서울 강남구 논현로94길 11 지하 1층 역삼역 7번 출구에서 217m\\n29 이자카야 더 간사이 간사이오뎅 서울 강남구 논현로85길 35 세하빌딩 1층 역삼역 3번 출구에서 254m\\n30 한식주점 이백 육회,골뱅이무침 서울 강남구 언주로85길 14 엠코스퀘어720 역삼역 1번 출구에서 510m\\n\\n\\u200b\\n\\n밥집 가격대는 8,000원~15,000원 입니다.\\n\\n대부분 9,000원~11,000원 메뉴인 곳으로 작성했습니다.\\n\\n\\u200b\\n\\n[![Image 9](https://mblogthumb-phinf.pstatic.net/MjAyNDEwMTBfMzMg/MDAxNzI4NDkwNDU4MDIw.5jNITuSRaccfnXySr03MjREYY48597pn_skR-gRI1Ckg.d0yslK1OO3Qh6qFx-9lZPGaOHZJQFbfJt3tPRgael_og.JPEG/1728490456885.jpg?type=w80_blur)](https://m.blog.naver.com/je3355je/223613149295)\\n\\n\\u200b\\n\\n직접 하나하나 지도에 저장했던 찐 맛집이에유~\\n\\n[![Image 10](https://storep-phinf.pstatic.net/ogq_5ebebeedf0c9a/original_23.png?type=p100_100)](https://m.blog.naver.com/je3355je/223613149295#)\\n\\n\\u200b\\n\\n**[ BEST 10 ]**\\n\\n**\\u200b**\\n\\n**1. 카즈야**\\n\\n[**카즈야** 서울특별시 강남구 테헤란로27길 8-4 늘봄빌딩](https://m.blog.naver.com/je3355je/223613149295#)\\n\\n[예약](https://m.blog.naver.com/je3355je/223613149295# \"예약하기\")\\n\\n이 블로그의 체크인\\n\\n이 장소의 다른 글\\n\\n**2. 뚝배기양평해장국**\\n\\n[**뚝배기양평해장국 역삼직영점** 서울특별시 강남구 테헤란로27길 36 1층 뚝배기양평해장국](https://m.blog.naver.com/je3355je/223613149295#)\\n\\n이 블로그의 체크인\\n\\n이 장소의 다른 글\\n\\n**3. 스매쉬치즈버거**\\n\\n[**스매쉬치즈버거** 서울특별시 강남구 강남대로94길 89 스매쉬치즈버거](https://m.blog.naver.com/je3355je/223613149295#)\\n\\n이 블로그의 체크인\\n\\n이 장소의 다른 글\\n\\n**4. 이도곰탕 본점**\\n\\n[**이도곰탕 본점** 서울특별시 강남구 논현로94길 29-5](https://m.blog.naver.com/je3355je/223613149295#)\\n\\n이 블로그의 체크인\\n\\n이 장소의 다른 글\\n\\n**5. 호타루**\\n\\n[**호타루** 서울특별시 강남구 테헤란로25길 9-10](https://m.blog.naver.com/je3355je/223613149295#)\\n\\n이 블로그의 체크인\\n\\n이 장소의 다른 글\\n\\n**6. 돈우정**\\n\\n[**돈우정** 서울특별시 강남구 봉은사로30길 73 1층](https://m.blog.naver.com/je3355je/223613149295#)\\n\\n이 블로그의 체크인\\n\\n이 장소의 다른 글\\n\\n**7. 명정루**\\n\\n[**명정루 역삼점** 서울특별시 강남구 논현로94길 19 1층 명정루](https://m.blog.naver.com/je3355je/223613149295#)\\n\\n이 블로그의 체크인\\n\\n이 장소의 다른 글\\n\\n**\\u200b**\\n\\n**8. 아리네술상**\\n\\n[**아리네술상** 서울특별시 강남구 논현로94길 11 지하 1층](https://m.blog.naver.com/je3355je/223613149295#)\\n\\n이 블로그의 체크인\\n\\n이 장소의 다른 글\\n\\n**9. 민들레떡볶이**\\n\\n[**민들레떡볶이** 서울특별시 강남구 논현로94길 11 2층](https://m.blog.naver.com/je3355je/223613149295#)\\n\\n이 블로그의 체크인\\n\\n이 장소의 다른 글\\n\\n**10. 지아니스나폴리**\\n\\n[**지아니스나폴리 역삼 본점** 서울특별시 강남구 논현로94길 15 B1층](https://m.blog.naver.com/je3355je/223613149295#)\\n\\n이 블로그의 체크인\\n\\n이 장소의 다른 글\\n\\n\\u200b\\n\\n자주 갔던 식당 10곳은 지도 첨부했습니다.\\n\\n대한민국 직장인 파이팅입니다 ♥\\n\\n\\u200b\\n\\n[![Image 11](https://storep-phinf.pstatic.net/ogq_5ebebeedf0c9a/original_24.png?type=p100_100)](https://m.blog.naver.com/je3355je/223613149295#)\\n\\n\\u200b\\n\\n_**이웃추가 하시면 전국 맛집 방방 곳곳**_\\n\\n_**구경하실 수 있습니다 .♡**_\\n\\n_**\\u200b**_\\n\\n*   [#역삼맛집](https://m.blog.naver.com/BlogTagView.naver?orderType=date&tagName=%EC%97%AD%EC%82%BC%EB%A7%9B%EC%A7%91)\\n*   [#역삼역맛집](https://m.blog.naver.com/BlogTagView.naver?orderType=date&tagName=%EC%97%AD%EC%82%BC%EC%97%AD%EB%A7%9B%EC%A7%91)\\n*   [#역삼맛집리스트](https://m.blog.naver.com/BlogTagView.naver?orderType=date&tagName=%EC%97%AD%EC%82%BC%EB%A7%9B%EC%A7%91%EB%A6%AC%EC%8A%A4%ED%8A%B8)\\n*   [#역삼맛집모음](https://m.blog.naver.com/BlogTagView.naver?orderType=date&tagName=%EC%97%AD%EC%82%BC%EB%A7%9B%EC%A7%91%EB%AA%A8%EC%9D%8C)\\n*   [#역삼역맛집추천](https://m.blog.naver.com/BlogTagView.naver?orderType=date&tagName=%EC%97%AD%EC%82%BC%EC%97%AD%EB%A7%9B%EC%A7%91%EC%B6%94%EC%B2%9C)\\n*   +20\\n\\n[_54_](https://m.blog.naver.com/je3355je/223613149295#)\\n\\n[공감한 사람 보러가기](https://m.blog.naver.com/SympathyHistoryList.naver?blogId=je3355je&logNo=223613149295&categoryId=POST)\\n\\n[댓글 _11_](https://m.blog.naver.com/CommentList.naver?blogId=je3355je&logNo=223613149295)[공유하기](https://m.blog.naver.com/je3355je/223613149295)\\n\\n[![Image 12: 프로필](https://blogpfthumb-phinf.pstatic.net/MjAyMzExMjlfMjQy/MDAxNzAxMjI1NjQwMDcx.S7yOVyHEwlY1UkFqqndKaB2vKnb0VJFAcgu10HHlPKwg.-kmsWi5f0U1AGySnIVa0JPrOvEnRh3WFHCbpF7WMeDcg.JPEG.je3355je/profileImage.jpg?type=s1)](https://m.blog.naver.com/je3355je)\\n\\n이웃추가\\n\\n[**오션** 맛집 이웃 4,299 명 2025 인천/서울/경기 [협업 문의: 메일/쪽지/디엠 je3355je@naver.com]](https://m.blog.naver.com/je3355je)\\n\\n*   [![Image 13: instagram](https://ssl.pstatic.net/static/blog/img_end_feed_profile_card_icon_instagram_2.png)](https://instagram.com/oceannnnnn_2?utm_source=qr&igshid=MzNlNGNkZWQ4Mg%3D%3D)\\n*   [![Image 14: youtube](https://ssl.pstatic.net/static/blog/img_end_feed_profile_card_icon_youtube_2.png)](https://youtube.com/@oceannnnnn_2?si=LgaeWoPvLFPlseQi)\\n\\n{\"title\":\"역삼역 맛집 리스트 2년차 직장인 또간집 TOP 30\",\"source\":\"https://blog.naver.com/je3355je/223613149295\",\"blogName\":\"팔도 맛집 ..\",\"domainIdOrBlogId\":\"je3355je\",\"nicknameOrBlogId\":\"오션\",\"logNo\":223613149295,\"smartEditorVersion\":4,\"meDisplay\":true,\"outsideDisplay\":false,\"cafeDisplay\":true,\"blogDisplay\":true,\"lineDisplay\":true}\\n\\n[닫기](https://m.blog.naver.com/je3355je/223613149295#)\\n\\n카테고리\\n----\\n\\n[이 블로그 홈](https://m.blog.naver.com/je3355je)\\n\\n[_54_](https://m.blog.naver.com/je3355je/223613149295#)\\n\\n[공감한 사람 보러가기](https://m.blog.naver.com/SympathyHistoryList.naver?blogId=je3355je&logNo=223613149295&categoryId=POST)\\n\\n[댓글 _11_](https://m.blog.naver.com/CommentList.naver?blogId=je3355je&logNo=223613149295)[공유하기](https://m.blog.naver.com/je3355je/223613149295#)\\n\\n**오션(je3355je)**님을 이웃추가하고 새글을 받아보세요\\n\\n[취소](https://m.blog.naver.com/je3355je/223613149295#)[이웃추가](https://m.blog.naver.com/je3355je/223613149295#)\\n\\n[닫기](https://m.blog.naver.com/je3355je/223613149295#)[공유](https://m.blog.naver.com/je3355je/223613149295#)\\n\\n[**0** / 0](javascript:void(0);)\\n\\n![Image 15](https://m.blog.naver.com/je3355je/223613149295)\\n\\n![Image 16](https://m.blog.naver.com/je3355je/223613149295)\\n\\n![Image 17](https://m.blog.naver.com/je3355je/223613149295)\\n\\n[](https://m.blog.naver.com/je3355je/223613149295#)\\n\\n[](https://m.blog.naver.com/je3355je/223613149295#)\\n\\n*   [![Image 18](https://mblogthumb-phinf.pstatic.net/MjAyNDEwMTVfMTQw/MDAxNzI4OTczMTMyMjI2.2Qc8yvXzL_RzLVWTQcHzU8woU1qkuxzihE05l_ujm7Yg.Q9GhiECR9W_XvSiKO0izkpf_m_Oi9IjqG1zMnLBYlJYg.JPEG/003.jpg?type=f100_webp)](https://m.blog.naver.com/je3355je/223613149295#) \\n*   [![Image 19](https://mblogthumb-phinf.pstatic.net/MjAyNDA1MDVfMTky/MDAxNzE0OTA0NzA0MjE4.nQnfUlw_KCd2IYcsxW2-WnTKtnN4y0gH8d3s0lBOBlQg.PfbtKtfHUVm1VxHjg9q9kMJD18qURd2HbifbVeCsoMQg.JPEG/IMG%25EF%25BC%25BF4859.JPG?type=f100_webp)](https://m.blog.naver.com/je3355je/223613149295#) \\n*   [![Image 20](https://mblogthumb-phinf.pstatic.net/MjAyNDEwMTBfMzMg/MDAxNzI4NDkwNDU4MDIw.5jNITuSRaccfnXySr03MjREYY48597pn_skR-gRI1Ckg.d0yslK1OO3Qh6qFx-9lZPGaOHZJQFbfJt3tPRgael_og.JPEG/1728490456885.jpg?type=f100_webp)](https://m.blog.naver.com/je3355je/223613149295#) \\n\\n닫기\\n\\n![Image 21](https://m.blog.naver.com/je3355je/223613149295)\\n'}],\n",
       " 'answer': '역삼역 주변 맛집으로는 \"서울집\"의 손만두와 도가니 수육, \"선덕칼국수\"의 닭칼국수와 감자전, 그리고 \"신동궁감자탕\"의 매운 뼈숯불구이를 추천합니다. \"밀회관\"은 대용량 플래터와 다양한 주류를 즐길 수 있는 곳으로 단체 모임에 좋습니다. \"지아니스나폴리\"는 화덕피자와 파스타가 일품인 이탈리아 식당입니다.'}"
      ]
     },
     "execution_count": 27,
     "metadata": {},
     "output_type": "execute_result"
    }
   ],
   "source": [
    "initial_state = {'query': '역삼 맛집을 추천해주세요'}\n",
    "graph.invoke(initial_state)"
   ]
  },
  {
   "cell_type": "code",
   "execution_count": null,
   "metadata": {},
   "outputs": [],
   "source": []
  }
 ],
 "metadata": {
  "kernelspec": {
   "display_name": ".venv",
   "language": "python",
   "name": "python3"
  },
  "language_info": {
   "codemirror_mode": {
    "name": "ipython",
    "version": 3
   },
   "file_extension": ".py",
   "mimetype": "text/x-python",
   "name": "python",
   "nbconvert_exporter": "python",
   "pygments_lexer": "ipython3",
   "version": "3.13.7"
  }
 },
 "nbformat": 4,
 "nbformat_minor": 2
}
