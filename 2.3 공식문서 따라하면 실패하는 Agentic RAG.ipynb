{
  "cells": [
    {
      "cell_type": "markdown",
      "metadata": {},
      "source": [
        "# 2.3 공식문서 따라하면 실패하는 Agentic RAG"
      ]
    },
    {
      "cell_type": "markdown",
      "metadata": {},
      "source": [
        "- 이번 회차에서는 `conditional_edge`를 활용하는 방법을 배웁니다\n",
        "    - `conditional_edge는` `LangGraph`에서 조건부 실행 흐름을 제어하는 특별한 종류의 엣지입니다. \n",
        "    - 일반 `edge`와 달리, 특정 조건이 충족될 때만 해당 경로로 실행이 진행됩니다.\n",
        "- `conditional_edge는`는 주로 'if-then' 형태의 로직을 구현할 때 사용됩니다. \n",
        "    - 사용자의 입력이 특정 조건을 만족할 때만 특정 `node`로 이동하고, 그렇지 않으면 다른 경로로 진행하도록 설정할 수 있습니다\n",
        "    - 'if-then'과 다른점은, if-else문을 사용하지 않고, LLM의 판단에 따라 경로를 제어한다는 점입니다"
      ]
    },
    {
      "cell_type": "markdown",
      "metadata": {},
      "source": [
        "- LangGraph 공식문서에 나온 흐름을 따라갑니다\n",
        "    - 공식문서를 따라가면 `rewrite`를 정상적으로 하지 않아 \"살짝\" 변형합니다\n",
        "![agentic-rag](https://i.imgur.com/9NCNGWa.png)"
      ]
    },
    {
      "cell_type": "code",
      "execution_count": 16,
      "metadata": {},
      "outputs": [],
      "source": [
        "from langchain_chroma import Chroma\n",
        "from langchain_openai import OpenAIEmbeddings\n",
        "\n",
        "embedding_function = OpenAIEmbeddings(model='text-embedding-3-large')\n",
        "\n",
        "vector_store = Chroma(\n",
        "    embedding_function=embedding_function,\n",
        "    collection_name = 'income_tax_collection',\n",
        "    persist_directory = './income_tax_collection'\n",
        ")\n",
        "retriever = vector_store.as_retriever(search_kwargs={'k': 3})"
      ]
    },
    {
      "cell_type": "markdown",
      "metadata": {},
      "source": [
        "- `state`를 선언하고 에이전트를 생성합니다\n",
        "- 2.2강과 같이 RAG 파이프라인 구성이 목적이기 때문에 동일한 `state`를 사용합니다"
      ]
    },
    {
      "cell_type": "code",
      "execution_count": 17,
      "metadata": {},
      "outputs": [],
      "source": [
        "from typing_extensions import List, TypedDict\n",
        "from langchain_core.documents import Document\n",
        "from langgraph.graph import StateGraph\n",
        "\n",
        "class AgentState(TypedDict):\n",
        "    query: str\n",
        "    context: List[Document]\n",
        "    answer: str\n",
        "    \n",
        "graph_builder = StateGraph(AgentState)"
      ]
    },
    {
      "cell_type": "code",
      "execution_count": 18,
      "metadata": {},
      "outputs": [],
      "source": [
        "def retrieve(state: AgentState) -> AgentState:\n",
        "    \"\"\"\n",
        "    사용자의 질문에 기반하여 벡터 스토어에서 관련 문서를 검색합니다.\n",
        "\n",
        "    Args:\n",
        "        state (AgentState): 사용자의 질문을 포함한 에이전트의 현재 state.\n",
        "\n",
        "    Returns:\n",
        "        AgentState: 검색된 문서가 추가된 state를 반환합니다.\n",
        "    \"\"\"\n",
        "    query = state['query']  # state에서 사용자의 질문을 추출합니다.\n",
        "    docs = retriever.invoke(query)  # 질문과 관련된 문서를 검색합니다.\n",
        "    return {'context': docs}  # 검색된 문서를 포함한 state를 반환합니다."
      ]
    },
    {
      "cell_type": "code",
      "execution_count": 19,
      "metadata": {},
      "outputs": [],
      "source": [
        "from langchain_openai import ChatOpenAI\n",
        "\n",
        "llm = ChatOpenAI(model='gpt-4o')"
      ]
    },
    {
      "cell_type": "code",
      "execution_count": 20,
      "metadata": {},
      "outputs": [
        {
          "name": "stderr",
          "output_type": "stream",
          "text": [
            "/Users/sangjinsu/projects/inflearn-langgraph-lecture/.venv/lib/python3.13/site-packages/langsmith/client.py:272: LangSmithMissingAPIKeyWarning: API key must be provided when using hosted LangSmith API\n",
            "  warnings.warn(\n"
          ]
        }
      ],
      "source": [
        "from langchain import hub\n",
        "\n",
        "# RAG 프롬프트를 가져옵니다.\n",
        "generate_prompt = hub.pull(\"rlm/rag-prompt\")\n",
        "\n",
        "def generate(state: AgentState) -> AgentState:\n",
        "    \"\"\"\n",
        "    주어진 state를 기반으로 RAG 체인을 사용하여 응답을 생성합니다.\n",
        "\n",
        "    Args:\n",
        "        state (AgentState): 사용자의 질문과 문맥을 포함한 에이전트의 현재 state.\n",
        "\n",
        "    Returns:\n",
        "        AgentState: 생성된 응답을 포함하는 state를 반환합니다.\n",
        "    \"\"\"\n",
        "    context = state['context']  # state에서 문맥을 추출합니다.\n",
        "    query = state['query']      # state에서 사용자의 질문을 추출합니다.\n",
        "    \n",
        "    # RAG 체인을 구성합니다.\n",
        "    rag_chain = generate_prompt | llm\n",
        "    \n",
        "    # 질문과 문맥을 사용하여 응답을 생성합니다.\n",
        "    response = rag_chain.invoke({'question': query, 'context': context})\n",
        "    \n",
        "    return {'answer': response}  # 생성된 응답을 포함하는 state를 반환합니다."
      ]
    },
    {
      "cell_type": "markdown",
      "metadata": {},
      "source": [
        "- `conditional_edge`를 활용하여 문서 관련성을 판단하는 로직을 구현합니다\n",
        "    - 에이전트는 LLM의 판단과 의사결정을 따릅니다"
      ]
    },
    {
      "cell_type": "code",
      "execution_count": 21,
      "metadata": {},
      "outputs": [
        {
          "name": "stderr",
          "output_type": "stream",
          "text": [
            "/Users/sangjinsu/projects/inflearn-langgraph-lecture/.venv/lib/python3.13/site-packages/langsmith/client.py:272: LangSmithMissingAPIKeyWarning: API key must be provided when using hosted LangSmith API\n",
            "  warnings.warn(\n"
          ]
        }
      ],
      "source": [
        "from langchain import hub\n",
        "from typing import Literal\n",
        "\n",
        "# 문서 관련성 판단을 위한 프롬프트를 가져옵니다.\n",
        "doc_relevance_prompt = hub.pull(\"langchain-ai/rag-document-relevance\")\n",
        "\n",
        "def check_doc_relevance(state: AgentState) -> Literal['generate', 'rewrite']:\n",
        "    \"\"\"\n",
        "    주어진 state를 기반으로 문서의 관련성을 판단합니다.\n",
        "\n",
        "    Args:\n",
        "        state (AgentState): 사용자의 질문과 문맥을 포함한 에이전트의 현재 state.\n",
        "\n",
        "    Returns:\n",
        "        Literal['generate', 'rewrite']: 문서가 관련성이 높으면 'generate', 그렇지 않으면 'rewrite'를 반환합니다.\n",
        "    \"\"\"\n",
        "    query = state['query']  # state에서 사용자의 질문을 추출합니다.\n",
        "    context = state['context']  # state에서 문맥을 추출합니다.\n",
        "\n",
        "    print(f\"context: {context}\")\n",
        "    # 문서 관련성 판단 체인을 구성합니다.\n",
        "    doc_relevance_chain = doc_relevance_prompt | llm\n",
        "    \n",
        "    # 질문과 문맥을 사용하여 문서의 관련성을 판단합니다.\n",
        "    response = doc_relevance_chain.invoke({'question': query, 'documents': context})\n",
        "\n",
        "    print(f\"response: {response}\")\n",
        "    # 관련성이 높으면 'generate'를 반환하고, 그렇지 않으면 'rewrite'를 반환합니다.\n",
        "    if response['Score'] == 1:\n",
        "        return 'generate'\n",
        "    \n",
        "    return 'rewrite'"
      ]
    },
    {
      "cell_type": "code",
      "execution_count": 22,
      "metadata": {},
      "outputs": [],
      "source": [
        "from langchain_core.prompts import PromptTemplate\n",
        "from langchain_core.output_parsers import StrOutputParser\n",
        "\n",
        "# 사전 정의: 특정 표현을 다른 표현으로 변환하기 위한 사전입니다.\n",
        "dictionary = ['사람과 관련된 표현 -> 거주자']\n",
        "\n",
        "# 프롬프트 템플릿을 생성합니다. 사용자의 질문을 사전을 참고하여 변경합니다.\n",
        "rewrite_prompt = PromptTemplate.from_template(f\"\"\"\n",
        "사용자의 질문을 보고, 우리의 사전을 참고해서 사용자의 질문을 변경해주세요 \n",
        "사전: {dictionary}                                           \n",
        "질문: {{query}}\n",
        "\"\"\")\n",
        "\n",
        "def rewrite(state: AgentState) -> AgentState:\n",
        "    \"\"\"\n",
        "    사용자의 질문을 사전을 참고하여 변경합니다.\n",
        "\n",
        "    Args:\n",
        "        state (AgentState): 사용자의 질문을 포함한 에이전트의 현재 state.\n",
        "\n",
        "    Returns:\n",
        "        AgentState: 변경된 질문을 포함하는 state를 반환합니다.\n",
        "    \"\"\"\n",
        "    query = state['query']  # state에서 사용자의 질문을 추출합니다.\n",
        "    \n",
        "    # 리라이트 체인을 구성합니다. 프롬프트, LLM, 출력 파서를 연결합니다.\n",
        "    rewrite_chain = rewrite_prompt | llm | StrOutputParser()\n",
        "\n",
        "    # 질문을 변경합니다.\n",
        "    response = rewrite_chain.invoke({'query': query})\n",
        "    \n",
        "    return {'query': response}  # 변경된 질문을 포함하는 state를 반환합니다."
      ]
    },
    {
      "cell_type": "markdown",
      "metadata": {},
      "source": [
        "- `node`를 추가하고 `edge`로 연결합니다"
      ]
    },
    {
      "cell_type": "code",
      "execution_count": 23,
      "metadata": {},
      "outputs": [
        {
          "data": {
            "text/plain": [
              "<langgraph.graph.state.StateGraph at 0x11f919310>"
            ]
          },
          "execution_count": 23,
          "metadata": {},
          "output_type": "execute_result"
        }
      ],
      "source": [
        "graph_builder.add_node('retrieve', retrieve)\n",
        "graph_builder.add_node('generate', generate)\n",
        "graph_builder.add_node('rewrite', rewrite)"
      ]
    },
    {
      "cell_type": "code",
      "execution_count": 24,
      "metadata": {},
      "outputs": [
        {
          "data": {
            "text/plain": [
              "<langgraph.graph.state.StateGraph at 0x11f919310>"
            ]
          },
          "execution_count": 24,
          "metadata": {},
          "output_type": "execute_result"
        }
      ],
      "source": [
        "from langgraph.graph import START, END\n",
        "\n",
        "graph_builder.add_edge(START, 'retrieve')\n",
        "graph_builder.add_conditional_edges('retrieve', check_doc_relevance)\n",
        "graph_builder.add_edge('rewrite', 'retrieve')\n",
        "graph_builder.add_edge('generate', END)"
      ]
    },
    {
      "cell_type": "code",
      "execution_count": 25,
      "metadata": {},
      "outputs": [],
      "source": [
        "graph = graph_builder.compile()"
      ]
    },
    {
      "cell_type": "code",
      "execution_count": 26,
      "metadata": {},
      "outputs": [
        {
          "data": {
            "image/png": "[encoded data removed]",
            "text/plain": [
              "<IPython.core.display.Image object>"
            ]
          },
          "metadata": {},
          "output_type": "display_data"
        }
      ],
      "source": [
        "from IPython.display import Image, display\n",
        "\n",
        "display(Image(graph.get_graph().draw_mermaid_png()))"
      ]
    },
    {
      "cell_type": "markdown",
      "metadata": {},
      "source": [
        "- 질문을 변경해보면서 `rewrite` 노드가 활성화되는지 확인해보세요"
      ]
    },
    {
      "cell_type": "code",
      "execution_count": 27,
      "metadata": {},
      "outputs": [
        {
          "name": "stdout",
          "output_type": "stream",
          "text": [
            "context: [Document(id='0b3d724d-1048-4713-877a-9b3178256978', metadata={'source': './documents/income_tax.txt'}, page_content='5년 이하: 30만원 → 납입연수\\n5년 초과 10년 이하: 150만원 + 50만원 × (납입연수 - 5년)\\n10년 초과 20년 이하: 400만원 + 80만원 × (납입연수 - 10년)\\n20년 초과: 1,200만원 + 120만원 × (납입연수 - 20년)\\n\\n② 직장근로자 초과관세환급금을 분배하여 지급받는 경우 세액의 계산 방법 등 필요한 사항은 대통령령으로 정한다. \\n<대통령 2014. 12. 23.>\\n<전문개정 2009. 12. 31.>\\n제64조(부동산매매업자에 대한 세액 계산의 특례)\\n1) 대통령령으로 정하는 부동산매매업(이하 “부동산매매업”이라 한다)을 영위하는 거주자가 이하 “부동산매매업자”라 한다)로서 종합소득세법에 제104조제1항제1호(본항을 포함한다) 및 제103조 또는 같은 조 제7항 각 호의 어느 하나에 해당하는 자산의 매매자익(이하 “주택등매매차익”이라 한다)이 있는 자의 종합소득 산출세액은 다음 각 호의 세액 중 많은 것으로 한다. \\n<개정 2014. 12. 23., 2017. 12. 19., 2020. 12. 29.>\\n1. 종합소득 산출세액\\n\\n다음 각 목에 따른 세액의 합계액\\n  가. 주택등매매차익에 따른 세율을 적용하여 산출한 세액의 합계액\\n  나. 종합소득세법 제55조에 따라 주택등매매차익에 대한 개별세액을 공제한 금액을 과세표준으로 하고 이에 제55조에 따른 세율을 적용하여 산출세액'), Document(id='1dac7462-2ebd-4d73-9bb2-ad35da85dcc1', metadata={'source': './documents/income_tax.txt'}, page_content='5년 이하: 30만원 → 납입연수\\n5년 초과 10년 이하: 150만원 + 50만원 × (납입연수 - 5년)\\n10년 초과 20년 이하: 400만원 + 80만원 × (납입연수 - 10년)\\n20년 초과: 1,200만원 + 120만원 × (납입연수 - 20년)\\n\\n② 직장근로자 초과관세환급금을 분배하여 지급받는 경우 세액의 계산 방법 등 필요한 사항은 대통령령으로 정한다. \\n<대통령 2014. 12. 23.>\\n<전문개정 2009. 12. 31.>\\n제64조(부동산매매업자에 대한 세액 계산의 특례)\\n1) 대통령령으로 정하는 부동산매매업(이하 “부동산매매업”이라 한다)을 영위하는 거주자가 이하 “부동산매매업자”라 한다)로서 종합소득세법에 제104조제1항제1호(본항을 포함한다) 및 제103조 또는 같은 조 제7항 각 호의 어느 하나에 해당하는 자산의 매매자익(이하 “주택등매매차익”이라 한다)이 있는 자의 종합소득 산출세액은 다음 각 호의 세액 중 많은 것으로 한다. \\n<개정 2014. 12. 23., 2017. 12. 19., 2020. 12. 29.>\\n1. 종합소득 산출세액\\n\\n다음 각 목에 따른 세액의 합계액\\n  가. 주택등매매차익에 따른 세율을 적용하여 산출한 세액의 합계액\\n  나. 종합소득세법 제55조에 따라 주택등매매차익에 대한 개별세액을 공제한 금액을 과세표준으로 하고 이에 제55조에 따른 세율을 적용하여 산출세액'), Document(id='ff925796-ccd9-41b3-a7d1-043a8d55aecc', metadata={'source': './documents/income_tax.txt'}, page_content='1. 근속연수에 따라 정한 다음의 금액\\n근속연수 | 공제액\\n--- | ---\\n5년 이하 | 100만원 공제소득\\n5년 초과 10년 이하 | 500만원+200만원×(근속연수−5)\\n10년 초과 20년 이하 | 1천500만원+250만원×(근속연수−10)\\n법제처 | 31 | 국가법령정보센터')]\n",
            "response: {'Score': 0, 'Explanation': \"The facts provided relate to tax calculations based on different criteria such as the length of service or other income aspects but do not directly address the specific question of determining the tax on an annual salary ('연봉') of 50 million won. The facts discuss calculations based on specific types of income not directly related to a fixed annual salary amount. The question is about income tax on a particular salary amount, while the facts reference tax implications related to terms, service duration, and specialized business activities. Therefore, the provided facts are unrelated to the question.\"}\n",
            "context: [Document(id='0b3d724d-1048-4713-877a-9b3178256978', metadata={'source': './documents/income_tax.txt'}, page_content='5년 이하: 30만원 → 납입연수\\n5년 초과 10년 이하: 150만원 + 50만원 × (납입연수 - 5년)\\n10년 초과 20년 이하: 400만원 + 80만원 × (납입연수 - 10년)\\n20년 초과: 1,200만원 + 120만원 × (납입연수 - 20년)\\n\\n② 직장근로자 초과관세환급금을 분배하여 지급받는 경우 세액의 계산 방법 등 필요한 사항은 대통령령으로 정한다. \\n<대통령 2014. 12. 23.>\\n<전문개정 2009. 12. 31.>\\n제64조(부동산매매업자에 대한 세액 계산의 특례)\\n1) 대통령령으로 정하는 부동산매매업(이하 “부동산매매업”이라 한다)을 영위하는 거주자가 이하 “부동산매매업자”라 한다)로서 종합소득세법에 제104조제1항제1호(본항을 포함한다) 및 제103조 또는 같은 조 제7항 각 호의 어느 하나에 해당하는 자산의 매매자익(이하 “주택등매매차익”이라 한다)이 있는 자의 종합소득 산출세액은 다음 각 호의 세액 중 많은 것으로 한다. \\n<개정 2014. 12. 23., 2017. 12. 19., 2020. 12. 29.>\\n1. 종합소득 산출세액\\n\\n다음 각 목에 따른 세액의 합계액\\n  가. 주택등매매차익에 따른 세율을 적용하여 산출한 세액의 합계액\\n  나. 종합소득세법 제55조에 따라 주택등매매차익에 대한 개별세액을 공제한 금액을 과세표준으로 하고 이에 제55조에 따른 세율을 적용하여 산출세액'), Document(id='1dac7462-2ebd-4d73-9bb2-ad35da85dcc1', metadata={'source': './documents/income_tax.txt'}, page_content='5년 이하: 30만원 → 납입연수\\n5년 초과 10년 이하: 150만원 + 50만원 × (납입연수 - 5년)\\n10년 초과 20년 이하: 400만원 + 80만원 × (납입연수 - 10년)\\n20년 초과: 1,200만원 + 120만원 × (납입연수 - 20년)\\n\\n② 직장근로자 초과관세환급금을 분배하여 지급받는 경우 세액의 계산 방법 등 필요한 사항은 대통령령으로 정한다. \\n<대통령 2014. 12. 23.>\\n<전문개정 2009. 12. 31.>\\n제64조(부동산매매업자에 대한 세액 계산의 특례)\\n1) 대통령령으로 정하는 부동산매매업(이하 “부동산매매업”이라 한다)을 영위하는 거주자가 이하 “부동산매매업자”라 한다)로서 종합소득세법에 제104조제1항제1호(본항을 포함한다) 및 제103조 또는 같은 조 제7항 각 호의 어느 하나에 해당하는 자산의 매매자익(이하 “주택등매매차익”이라 한다)이 있는 자의 종합소득 산출세액은 다음 각 호의 세액 중 많은 것으로 한다. \\n<개정 2014. 12. 23., 2017. 12. 19., 2020. 12. 29.>\\n1. 종합소득 산출세액\\n\\n다음 각 목에 따른 세액의 합계액\\n  가. 주택등매매차익에 따른 세율을 적용하여 산출한 세액의 합계액\\n  나. 종합소득세법 제55조에 따라 주택등매매차익에 대한 개별세액을 공제한 금액을 과세표준으로 하고 이에 제55조에 따른 세율을 적용하여 산출세액'), Document(id='9ef264ea-e05d-46d8-a4a2-aeced74caeda', metadata={'source': './documents/income_tax.txt'}, page_content='② 제70조제1항, 제70조의2에 따른 제74조에 따라 차례로 할 것이 제70조제1항제2호에 따르며 서류를 제출하여야 한다는 경우에는 기준소득 중 거주자 본인이 된다(분산)과 제70조제2와 제74조에 따른 제료 및 제대법을 포함한다. 단, 차별제표청정인 그 업체를 남겨 제출한 경우로 그에 대하여 아니하다.<개정 2013. 1. 1.>\\n  ③ 제80조에 따른 수익과 관련의 경우에는 기초공제 중 거주자 본인이 된다(분산)과 그에 관한 적지사항을 분명히 한다.\\n[전문개정 2009. 12. 31.]\\n[제목개정 2014. 1. 1.]\\n제54조의2(공동사업에 대한 소득공제 등 특례) 제51조의3 또는 「조세특례제한법」에 따른 소득공제를 적용하거나 제59조의2에 따른 세액감면을 적용하는 경우 제54조제3항에 따라 공동사업자의 소득에 합산과세되는 특별세액거래의 지출․납입․투자 등의 금액이 있을 경우 주된 공동사업자의 소득에 합산과세되는 소득금액에 합산되어 주된 공동사업자의 합산과세세액은 공동사업소득액 또는 공동사업창출세액을 계산할 때 소득공제 또는 세액공제를 받을 수 있다. \\n[개정 2014. 1. 1.]\\n[전문개정 2009. 12. 31.]\\n[제목개정 2014. 1. 1.]\\n제2절 세액의 계산 <개정 2009. 12. 31.>\\n제1관 세율 <개정 2009. 12. 31.>\\n제55조(세율) 거주자의 종합소득에 대한 소득세는 해당 연도의 종합소득과세표준에 다음의 세율을 적용하여 계산한 금액(이하 \"종합소득과세표준세액\"이라 한다)을 그 세액으로 한다. <개정 2014. 1. 1., 2016. 12. 20., 2017. 12. 19., 2020. 12. 29., 2022. 12. 31.>\\n종합소득\\n┌───────────────┐\\n│ 과세표준의 6개 구간 │\\n├───────────────┤\\n│ 1,400만원 이하        │ 84만원 + (1,400만원을 초과하는 금액의 15%)  │\\n│ 1,400만원 초과        │ 84만원 + (5,000만원을 초과하는 금액의 24%)  │\\n│ 8,800만원 이하        │ 624만원 + (5,000만원을 초과하는 금액의 24%)  │\\n│ 8,800만원 초과        │ 1,536만원 + (8,800만원을 초과하는 금액의 35%)  │\\n│ 1.5억원 초과          │ 4,046만원 + (1,500만원을 초과하는 금액의 38%)  │\\n│ 3억원 초과            │ 6,460만원 + (3억원을 초과하는 금액의 40%)  │\\n│ 5억원 초과            │ 14,760만원 + (5억원을 초과하는 금액의 42%)  │\\n│ 10억원 초과           │ 38,406만원 + (10억원을 초과하는 금액의 45%)  │\\n└───────────────┘\\n② 거주자의 퇴직소득에 대한 소득세는 다음 각 호의 순서에 따라 계산한 금액(이하 ‘퇴직소득 산출세액’이라 한다)으로 한다. <개정 2013. 1. 1., 2014. 12. 23.>')]\n",
            "response: {'Score': 1, 'Explanation': \"The question asks about the income tax for a resident with an annual income of 50 million won. The provided document facts heavily discuss various aspects of income tax calculation, including specific tax rates and tax calculation methods for various income ranges and scenarios.\\n\\n1. The first two documents provide information about income tax calculation based on the duration of payment and special provisions for real estate operators, which may not directly address a standard annual income situation. However, this information pertains to general income tax rules and is somewhat relevant as it provides context on how different scenarios are handled under income tax law.\\n\\n2. The third document provides a detailed table of income tax rates applicable to different income brackets. It outlines a tax calculation method that would apply to a resident's comprehensive income, which includes an annual salary like 50 million won. It outlines the applicable tax bands and rates, which directly relate to the question of a resident's income tax on a salary of 50 million won.\\n\\nOverall, while some facts provide additional context or examples that may not directly apply to the specific question of a 50 million won salary, they contribute to understanding the income tax process, thus making the provided information relevant to address the question. Therefore, the score is 1.\"}\n"
          ]
        },
        {
          "data": {
            "text/plain": [
              "{'query': '거주자의 연봉 5천만 원에 대한 세금은 어떻게 되나요?',\n",
              " 'context': [Document(id='0b3d724d-1048-4713-877a-9b3178256978', metadata={'source': './documents/income_tax.txt'}, page_content='5년 이하: 30만원 → 납입연수\\n5년 초과 10년 이하: 150만원 + 50만원 × (납입연수 - 5년)\\n10년 초과 20년 이하: 400만원 + 80만원 × (납입연수 - 10년)\\n20년 초과: 1,200만원 + 120만원 × (납입연수 - 20년)\\n\\n② 직장근로자 초과관세환급금을 분배하여 지급받는 경우 세액의 계산 방법 등 필요한 사항은 대통령령으로 정한다. \\n<대통령 2014. 12. 23.>\\n<전문개정 2009. 12. 31.>\\n제64조(부동산매매업자에 대한 세액 계산의 특례)\\n1) 대통령령으로 정하는 부동산매매업(이하 “부동산매매업”이라 한다)을 영위하는 거주자가 이하 “부동산매매업자”라 한다)로서 종합소득세법에 제104조제1항제1호(본항을 포함한다) 및 제103조 또는 같은 조 제7항 각 호의 어느 하나에 해당하는 자산의 매매자익(이하 “주택등매매차익”이라 한다)이 있는 자의 종합소득 산출세액은 다음 각 호의 세액 중 많은 것으로 한다. \\n<개정 2014. 12. 23., 2017. 12. 19., 2020. 12. 29.>\\n1. 종합소득 산출세액\\n\\n다음 각 목에 따른 세액의 합계액\\n  가. 주택등매매차익에 따른 세율을 적용하여 산출한 세액의 합계액\\n  나. 종합소득세법 제55조에 따라 주택등매매차익에 대한 개별세액을 공제한 금액을 과세표준으로 하고 이에 제55조에 따른 세율을 적용하여 산출세액'),\n",
              "  Document(id='1dac7462-2ebd-4d73-9bb2-ad35da85dcc1', metadata={'source': './documents/income_tax.txt'}, page_content='5년 이하: 30만원 → 납입연수\\n5년 초과 10년 이하: 150만원 + 50만원 × (납입연수 - 5년)\\n10년 초과 20년 이하: 400만원 + 80만원 × (납입연수 - 10년)\\n20년 초과: 1,200만원 + 120만원 × (납입연수 - 20년)\\n\\n② 직장근로자 초과관세환급금을 분배하여 지급받는 경우 세액의 계산 방법 등 필요한 사항은 대통령령으로 정한다. \\n<대통령 2014. 12. 23.>\\n<전문개정 2009. 12. 31.>\\n제64조(부동산매매업자에 대한 세액 계산의 특례)\\n1) 대통령령으로 정하는 부동산매매업(이하 “부동산매매업”이라 한다)을 영위하는 거주자가 이하 “부동산매매업자”라 한다)로서 종합소득세법에 제104조제1항제1호(본항을 포함한다) 및 제103조 또는 같은 조 제7항 각 호의 어느 하나에 해당하는 자산의 매매자익(이하 “주택등매매차익”이라 한다)이 있는 자의 종합소득 산출세액은 다음 각 호의 세액 중 많은 것으로 한다. \\n<개정 2014. 12. 23., 2017. 12. 19., 2020. 12. 29.>\\n1. 종합소득 산출세액\\n\\n다음 각 목에 따른 세액의 합계액\\n  가. 주택등매매차익에 따른 세율을 적용하여 산출한 세액의 합계액\\n  나. 종합소득세법 제55조에 따라 주택등매매차익에 대한 개별세액을 공제한 금액을 과세표준으로 하고 이에 제55조에 따른 세율을 적용하여 산출세액'),\n",
              "  Document(id='9ef264ea-e05d-46d8-a4a2-aeced74caeda', metadata={'source': './documents/income_tax.txt'}, page_content='② 제70조제1항, 제70조의2에 따른 제74조에 따라 차례로 할 것이 제70조제1항제2호에 따르며 서류를 제출하여야 한다는 경우에는 기준소득 중 거주자 본인이 된다(분산)과 제70조제2와 제74조에 따른 제료 및 제대법을 포함한다. 단, 차별제표청정인 그 업체를 남겨 제출한 경우로 그에 대하여 아니하다.<개정 2013. 1. 1.>\\n  ③ 제80조에 따른 수익과 관련의 경우에는 기초공제 중 거주자 본인이 된다(분산)과 그에 관한 적지사항을 분명히 한다.\\n[전문개정 2009. 12. 31.]\\n[제목개정 2014. 1. 1.]\\n제54조의2(공동사업에 대한 소득공제 등 특례) 제51조의3 또는 「조세특례제한법」에 따른 소득공제를 적용하거나 제59조의2에 따른 세액감면을 적용하는 경우 제54조제3항에 따라 공동사업자의 소득에 합산과세되는 특별세액거래의 지출․납입․투자 등의 금액이 있을 경우 주된 공동사업자의 소득에 합산과세되는 소득금액에 합산되어 주된 공동사업자의 합산과세세액은 공동사업소득액 또는 공동사업창출세액을 계산할 때 소득공제 또는 세액공제를 받을 수 있다. \\n[개정 2014. 1. 1.]\\n[전문개정 2009. 12. 31.]\\n[제목개정 2014. 1. 1.]\\n제2절 세액의 계산 <개정 2009. 12. 31.>\\n제1관 세율 <개정 2009. 12. 31.>\\n제55조(세율) 거주자의 종합소득에 대한 소득세는 해당 연도의 종합소득과세표준에 다음의 세율을 적용하여 계산한 금액(이하 \"종합소득과세표준세액\"이라 한다)을 그 세액으로 한다. <개정 2014. 1. 1., 2016. 12. 20., 2017. 12. 19., 2020. 12. 29., 2022. 12. 31.>\\n종합소득\\n┌───────────────┐\\n│ 과세표준의 6개 구간 │\\n├───────────────┤\\n│ 1,400만원 이하        │ 84만원 + (1,400만원을 초과하는 금액의 15%)  │\\n│ 1,400만원 초과        │ 84만원 + (5,000만원을 초과하는 금액의 24%)  │\\n│ 8,800만원 이하        │ 624만원 + (5,000만원을 초과하는 금액의 24%)  │\\n│ 8,800만원 초과        │ 1,536만원 + (8,800만원을 초과하는 금액의 35%)  │\\n│ 1.5억원 초과          │ 4,046만원 + (1,500만원을 초과하는 금액의 38%)  │\\n│ 3억원 초과            │ 6,460만원 + (3억원을 초과하는 금액의 40%)  │\\n│ 5억원 초과            │ 14,760만원 + (5억원을 초과하는 금액의 42%)  │\\n│ 10억원 초과           │ 38,406만원 + (10억원을 초과하는 금액의 45%)  │\\n└───────────────┘\\n② 거주자의 퇴직소득에 대한 소득세는 다음 각 호의 순서에 따라 계산한 금액(이하 ‘퇴직소득 산출세액’이라 한다)으로 한다. <개정 2013. 1. 1., 2014. 12. 23.>')],\n",
              " 'answer': AIMessage(content='거주자의 연봉 5천만 원에 대한 세금은 연간 과세표준에 따라 계산됩니다. 연봉 5천만 원의 경우 과세표준 구간에 의해 5천만 원 초과 부분에 대해서 24%의 세율이 적용됩니다. 따라서 1,400만원까지는 기본 공제가 있으며, 5천만 원 초과 금액에는 24%의 세율이 적용됩니다.', additional_kwargs={'refusal': None}, response_metadata={'token_usage': {'completion_tokens': 96, 'prompt_tokens': 2085, 'total_tokens': 2181, 'completion_tokens_details': {'accepted_prediction_tokens': 0, 'audio_tokens': 0, 'reasoning_tokens': 0, 'rejected_prediction_tokens': 0}, 'prompt_tokens_details': {'audio_tokens': 0, 'cached_tokens': 0}}, 'model_name': 'gpt-4o-2024-08-06', 'system_fingerprint': 'fp_46bff0e0c8', 'id': 'chatcmpl-C7z2myMxgyTDgJXwPZUy6RAmlz92i', 'service_tier': 'default', 'finish_reason': 'stop', 'logprobs': None}, id='run--090cd414-0e78-4215-afb3-a20963dc3b83-0', usage_metadata={'input_tokens': 2085, 'output_tokens': 96, 'total_tokens': 2181, 'input_token_details': {'audio': 0, 'cache_read': 0}, 'output_token_details': {'audio': 0, 'reasoning': 0}})}"
            ]
          },
          "execution_count": 27,
          "metadata": {},
          "output_type": "execute_result"
        }
      ],
      "source": [
        "initial_state = {'query': '연봉 5천만원 세금'}\n",
        "graph.invoke(initial_state)"
      ]
    }
  ],
  "metadata": {
    "kernelspec": {
      "display_name": ".venv",
      "language": "python",
      "name": "python3"
    },
    "language_info": {
      "codemirror_mode": {
        "name": "ipython",
        "version": 3
      },
      "file_extension": ".py",
      "mimetype": "text/x-python",
      "name": "python",
      "nbconvert_exporter": "python",
      "pygments_lexer": "ipython3",
      "version": "3.13.7"
    }
  },
  "nbformat": 4,
  "nbformat_minor": 2
}
