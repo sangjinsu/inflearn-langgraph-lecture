{
 "cells": [
  {
   "cell_type": "markdown",
   "metadata": {},
   "source": [
    "# 2.8 Multi-Agent 시스템과 RouteLLM"
   ]
  },
  {
   "cell_type": "markdown",
   "metadata": {},
   "source": [
    "- 앞에서 개발한 `소득세 에이전트`와 `종합부동산세 에이전트`를 활용해서 다중 에이전트 시스템을 구현합니다"
   ]
  },
  {
   "cell_type": "code",
   "execution_count": 19,
   "metadata": {},
   "outputs": [
    {
     "data": {
      "text/plain": [
       "True"
      ]
     },
     "execution_count": 19,
     "metadata": {},
     "output_type": "execute_result"
    }
   ],
   "source": [
    "from dotenv import load_dotenv\n",
    "\n",
    "load_dotenv()"
   ]
  },
  {
   "cell_type": "code",
   "execution_count": 20,
   "metadata": {},
   "outputs": [],
   "source": [
    "from langchain_openai import ChatOpenAI\n",
    "\n",
    "llm = ChatOpenAI(model=\"gpt-4o\")\n",
    "\n",
    "small_llm = ChatOpenAI(model=\"gpt-4o-mini\")"
   ]
  },
  {
   "cell_type": "code",
   "execution_count": 21,
   "metadata": {},
   "outputs": [],
   "source": [
    "from typing_extensions import TypedDict\n",
    "from langgraph.graph import StateGraph\n",
    "\n",
    "class AgentState(TypedDict):\n",
    "    query: str\n",
    "    context: list\n",
    "    answer: str\n",
    "    \n",
    "graph_builder = StateGraph(AgentState)"
   ]
  },
  {
   "cell_type": "code",
   "execution_count": 22,
   "metadata": {},
   "outputs": [],
   "source": [
    "from langchain_core.prompts import ChatPromptTemplate\n",
    "from pydantic import BaseModel, Field\n",
    "from typing import Literal\n",
    "\n",
    "class Route(BaseModel):\n",
    "    target: Literal['income_tax', 'llm', 'real_estate_tax'] = Field(\n",
    "        description=\"The target for the query to answer\"\n",
    "    )\n",
    "\n",
    "router_system_prompt = \"\"\"\n",
    "You are an expert at routing a user's question to 'income_tax', 'llm', or 'real_estate_tax'.\n",
    "'income_tax' contains information about income tax up to December 2024.\n",
    "'real_estate_tax' contains information about real estate tax up to December 2024.\n",
    "if you think the question is not related to either 'income_tax' or 'real_estate_tax';\n",
    "you can route it to 'llm'.\"\"\"\n",
    "\n",
    "\n",
    "router_prompt = ChatPromptTemplate.from_messages([\n",
    "    ('system', router_system_prompt),\n",
    "    ('user', '{query}')\n",
    "])\n",
    "\n",
    "structured_router_llm = small_llm.with_structured_output(Route)\n",
    "\n",
    "def router(state: AgentState) -> Literal['income_tax', 'real_estate_tax', 'llm']:\n",
    "    \"\"\"\n",
    "    주어진 state에서 쿼리를 기반으로 적절한 경로를 결정합니다.\n",
    "\n",
    "    Args:\n",
    "        state (AgentState): 현재 에이전트의 state를 나타내는 객체입니다.\n",
    "\n",
    "    Returns:\n",
    "        Literal['income_tax', 'real_estate_tax', 'llm']: 쿼리에 따라 선택된 경로를 반환합니다.\n",
    "    \"\"\"\n",
    "    query = state['query']\n",
    "    router_chain = router_prompt | structured_router_llm \n",
    "    route = router_chain.invoke({'query': query})\n",
    "\n",
    "    return route.target"
   ]
  },
  {
   "cell_type": "code",
   "execution_count": 23,
   "metadata": {},
   "outputs": [],
   "source": [
    "from langchain_core.output_parsers import StrOutputParser\n",
    "\n",
    "def call_llm(state: AgentState) -> AgentState:\n",
    "    \"\"\"\n",
    "    주어진 state에서 쿼리를 LLM에 전달하여 응답을 얻습니다.\n",
    "\n",
    "    Args:\n",
    "        state (AgentState): 현재 에이전트의 state를 나타내는 객체입니다.\n",
    "\n",
    "    Returns:\n",
    "        AgentState: 'answer' 키를 포함하는 새로운 state를 반환합니다.\n",
    "    \"\"\"\n",
    "    query = state['query']\n",
    "    llm_chain = small_llm | StrOutputParser()\n",
    "    llm_answer = llm_chain.invoke(query)\n",
    "    return {'answer': llm_answer}"
   ]
  },
  {
   "cell_type": "markdown",
   "metadata": {},
   "source": [
    "- `node`를 추가하고 `edge`로 연결합니다\n",
    "    - 앞에서 개발한 `agent`들을 `node`로 활용할 수 있습니다"
   ]
  },
  {
   "cell_type": "code",
   "execution_count": 24,
   "metadata": {},
   "outputs": [
    {
     "name": "stderr",
     "output_type": "stream",
     "text": [
      "/Users/sangjinsu/projects/inflearn-langgraph-lecture/.venv/lib/python3.13/site-packages/langsmith/client.py:272: LangSmithMissingAPIKeyWarning: API key must be provided when using hosted LangSmith API\n",
      "  warnings.warn(\n",
      "/Users/sangjinsu/projects/inflearn-langgraph-lecture/real_estate_tax_graph.py:92: LangChainDeprecationWarning: The class `TavilySearchResults` was deprecated in LangChain 0.3.25 and will be removed in 1.0. An updated version of the class exists in the :class:`~langchain-tavily package and should be used instead. To use it run `pip install -U :class:`~langchain-tavily` and import as `from :class:`~langchain_tavily import TavilySearch``.\n",
      "  from langchain_community.tools import TavilySearchResults\n"
     ]
    },
    {
     "data": {
      "text/plain": [
       "<langgraph.graph.state.StateGraph at 0x11f3e4c00>"
      ]
     },
     "execution_count": 24,
     "metadata": {},
     "output_type": "execute_result"
    }
   ],
   "source": [
    "from income_tax_graph import graph as income_tax_agent\n",
    "from real_estate_tax_graph import graph as real_estate_tax_agent\n",
    "\n",
    "graph_builder.add_node('income_tax', income_tax_agent)\n",
    "graph_builder.add_node('real_estate_tax', real_estate_tax_agent)\n",
    "graph_builder.add_node('llm', call_llm)"
   ]
  },
  {
   "cell_type": "code",
   "execution_count": 25,
   "metadata": {},
   "outputs": [
    {
     "data": {
      "text/plain": [
       "<langgraph.graph.state.StateGraph at 0x11f3e4c00>"
      ]
     },
     "execution_count": 25,
     "metadata": {},
     "output_type": "execute_result"
    }
   ],
   "source": [
    "from langgraph.graph import START, END\n",
    "\n",
    "graph_builder.add_conditional_edges(\n",
    "    START,\n",
    "    router,\n",
    "    {\n",
    "        'income_tax': 'income_tax',\n",
    "        'real_estate_tax': 'real_estate_tax',\n",
    "        'llm': 'llm'\n",
    "    }\n",
    ")\n",
    "graph_builder.add_edge('income_tax', END)\n",
    "graph_builder.add_edge('real_estate_tax', END)\n",
    "graph_builder.add_edge('llm', END)"
   ]
  },
  {
   "cell_type": "code",
   "execution_count": 26,
   "metadata": {},
   "outputs": [],
   "source": [
    "graph = graph_builder.compile()"
   ]
  },
  {
   "cell_type": "code",
   "execution_count": 27,
   "metadata": {},
   "outputs": [
    {
     "data": {
      "image/png": "[encoded data removed]",
      "text/plain": [
       "<IPython.core.display.Image object>"
      ]
     },
     "metadata": {},
     "output_type": "display_data"
    }
   ],
   "source": [
    "from IPython.display import Image, display\n",
    "\n",
    "display(Image(graph.get_graph().draw_mermaid_png()))"
   ]
  },
  {
   "cell_type": "code",
   "execution_count": 28,
   "metadata": {},
   "outputs": [
    {
     "data": {
      "text/plain": [
       "{'query': '소득세란 무엇인가요?',\n",
       " 'context': [Document(id='c3d95c37-2b30-4784-bfc1-51691e476b39', metadata={'source': './documents/income_tax.txt'}, page_content='② 제70조제1항, 제70조의2에 따른 제74조에 따라 차례로 할 것이 제70조제1항제2호에 따르며 서류를 제출하여야 한다는 경우에는 기준소득 중 거주자 본인이 된다(분산)과 제70조제2와 제74조에 따른 제료 및 제대법을 포함한다. 단, 차별제표청정인 그 업체를 남겨 제출한 경우로 그에 대하여 아니하다.<개정 2013. 1. 1.>\\n  ③ 제80조에 따른 수익과 관련의 경우에는 기초공제 중 거주자 본인이 된다(분산)과 그에 관한 적지사항을 분명히 한다.\\n[전문개정 2009. 12. 31.]\\n[제목개정 2014. 1. 1.]\\n제54조의2(공동사업에 대한 소득공제 등 특례) 제51조의3 또는 「조세특례제한법」에 따른 소득공제를 적용하거나 제59조의2에 따른 세액감면을 적용하는 경우 제54조제3항에 따라 공동사업자의 소득에 합산과세되는 특별세액거래의 지출․납입․투자 등의 금액이 있을 경우 주된 공동사업자의 소득에 합산과세되는 소득금액에 합산되어 주된 공동사업자의 합산과세세액은 공동사업소득액 또는 공동사업창출세액을 계산할 때 소득공제 또는 세액공제를 받을 수 있다. \\n[개정 2014. 1. 1.]\\n[전문개정 2009. 12. 31.]\\n[제목개정 2014. 1. 1.]\\n제2절 세액의 계산 <개정 2009. 12. 31.>\\n제1관 세율 <개정 2009. 12. 31.>\\n제55조(세율) 거주자의 종합소득에 대한 소득세는 해당 연도의 종합소득과세표준에 다음의 세율을 적용하여 계산한 금액(이하 \"종합소득과세표준세액\"이라 한다)을 그 세액으로 한다. <개정 2014. 1. 1., 2016. 12. 20., 2017. 12. 19., 2020. 12. 29., 2022. 12. 31.>\\n종합소득\\n┌───────────────┐\\n│ 과세표준의 6개 구간 │\\n├───────────────┤\\n│ 1,400만원 이하        │ 84만원 + (1,400만원을 초과하는 금액의 15%)  │\\n│ 1,400만원 초과        │ 84만원 + (5,000만원을 초과하는 금액의 24%)  │\\n│ 8,800만원 이하        │ 624만원 + (5,000만원을 초과하는 금액의 24%)  │\\n│ 8,800만원 초과        │ 1,536만원 + (8,800만원을 초과하는 금액의 35%)  │\\n│ 1.5억원 초과          │ 4,046만원 + (1,500만원을 초과하는 금액의 38%)  │\\n│ 3억원 초과            │ 6,460만원 + (3억원을 초과하는 금액의 40%)  │\\n│ 5억원 초과            │ 14,760만원 + (5억원을 초과하는 금액의 42%)  │\\n│ 10억원 초과           │ 38,406만원 + (10억원을 초과하는 금액의 45%)  │\\n└───────────────┘\\n② 거주자의 퇴직소득에 대한 소득세는 다음 각 호의 순서에 따라 계산한 금액(이하 ‘퇴직소득 산출세액’이라 한다)으로 한다. <개정 2013. 1. 1., 2014. 12. 23.>'),\n",
       "  Document(id='9ef264ea-e05d-46d8-a4a2-aeced74caeda', metadata={'source': './documents/income_tax.txt'}, page_content='② 제70조제1항, 제70조의2에 따른 제74조에 따라 차례로 할 것이 제70조제1항제2호에 따르며 서류를 제출하여야 한다는 경우에는 기준소득 중 거주자 본인이 된다(분산)과 제70조제2와 제74조에 따른 제료 및 제대법을 포함한다. 단, 차별제표청정인 그 업체를 남겨 제출한 경우로 그에 대하여 아니하다.<개정 2013. 1. 1.>\\n  ③ 제80조에 따른 수익과 관련의 경우에는 기초공제 중 거주자 본인이 된다(분산)과 그에 관한 적지사항을 분명히 한다.\\n[전문개정 2009. 12. 31.]\\n[제목개정 2014. 1. 1.]\\n제54조의2(공동사업에 대한 소득공제 등 특례) 제51조의3 또는 「조세특례제한법」에 따른 소득공제를 적용하거나 제59조의2에 따른 세액감면을 적용하는 경우 제54조제3항에 따라 공동사업자의 소득에 합산과세되는 특별세액거래의 지출․납입․투자 등의 금액이 있을 경우 주된 공동사업자의 소득에 합산과세되는 소득금액에 합산되어 주된 공동사업자의 합산과세세액은 공동사업소득액 또는 공동사업창출세액을 계산할 때 소득공제 또는 세액공제를 받을 수 있다. \\n[개정 2014. 1. 1.]\\n[전문개정 2009. 12. 31.]\\n[제목개정 2014. 1. 1.]\\n제2절 세액의 계산 <개정 2009. 12. 31.>\\n제1관 세율 <개정 2009. 12. 31.>\\n제55조(세율) 거주자의 종합소득에 대한 소득세는 해당 연도의 종합소득과세표준에 다음의 세율을 적용하여 계산한 금액(이하 \"종합소득과세표준세액\"이라 한다)을 그 세액으로 한다. <개정 2014. 1. 1., 2016. 12. 20., 2017. 12. 19., 2020. 12. 29., 2022. 12. 31.>\\n종합소득\\n┌───────────────┐\\n│ 과세표준의 6개 구간 │\\n├───────────────┤\\n│ 1,400만원 이하        │ 84만원 + (1,400만원을 초과하는 금액의 15%)  │\\n│ 1,400만원 초과        │ 84만원 + (5,000만원을 초과하는 금액의 24%)  │\\n│ 8,800만원 이하        │ 624만원 + (5,000만원을 초과하는 금액의 24%)  │\\n│ 8,800만원 초과        │ 1,536만원 + (8,800만원을 초과하는 금액의 35%)  │\\n│ 1.5억원 초과          │ 4,046만원 + (1,500만원을 초과하는 금액의 38%)  │\\n│ 3억원 초과            │ 6,460만원 + (3억원을 초과하는 금액의 40%)  │\\n│ 5억원 초과            │ 14,760만원 + (5억원을 초과하는 금액의 42%)  │\\n│ 10억원 초과           │ 38,406만원 + (10억원을 초과하는 금액의 45%)  │\\n└───────────────┘\\n② 거주자의 퇴직소득에 대한 소득세는 다음 각 호의 순서에 따라 계산한 금액(이하 ‘퇴직소득 산출세액’이라 한다)으로 한다. <개정 2013. 1. 1., 2014. 12. 23.>'),\n",
       "  Document(id='39cf3726-48f6-4682-a206-11a1ffde9912', metadata={'source': './documents/income_tax.txt'}, page_content='①조 세특례제한법, 또는 이 법 제12조에 따른 과세제외 소득  \\n대통령령으로 정하는 임금소득(이하 “임금소득”이라 한다)과 근로소득  \\n\\n제12조제2항의 세호에 따라 원천징수하는 이자소득 및 배당소득과 제16조제1항제10호에 따른 직장공제회초 관련소득  \\n\\n\\n법인으로 보는 단체 외의 단체 중 소득을 구성함에 배분하지 아니하는 단체로서 단체를 표기하는 금융거래를 하는 단체가 “금융신용기관” 및 비임금소득에 관한 법령이 제20조제1항 목의 이후에 해당하는 금융사업을 하는 단체(이하 “금융회사”等이란)로부터 받은 이자소득 및 배당소득  \\n\\n\\n①조 세특례제한법에 따른 보통계소득  \\n\\n\\n제30조부터 제35조까지의 규정 외의 이자소득과 배당소득(제17조제1항제8호에 따른 배당소득을 제외한다)으로서 그 소득의 합계액이 2천만원(이하 “이자소득의 종합세액기준금액”이라 한다) 이하인 경우 제17조에 따른 원천징수된 소득  \\n\\n\\n해당 과세기간에 배당행정을 정하는 총수입금액의 합계액이 2천만원 이하인 자의 주택임대소득(이하 “분리과세 주택임대소득”이라 한다). 이 경우 주택임대소득이 산정 등에 필요한 대책행령으로 정한다.  \\n\\n\\n다음 각 목 외의 기타소득(이하 “분리과세 기타소득”이라 한다)  \\n\\n\\n가. 제21조제1항제3호 제4항, 제19조, 제20조제1항, 제22조제2항, 제26조 및 제26조의2 및 제 127조에 따라 원천징수(제21조제19항에 의하여 원천징수되지 아니하는 경우를 포함한다) 소득. 다만, 해당 소득이 있는 거주자가 종합소득과세표준을 계산해 고소득을 합산하는 경우 그 소득은 분리과세로 세액계산에 제외한다.  \\n나. 제21조제19항제2조 및 같은 조 제2항에 따른 기타소득  \\n다. 제21조제19항제20호에 따른 기타소득 중 복리복리금, 제20조 제3회 복리 당정\\n마. 밖에 제21조제21항에 따른 기타소득 중 납부유상 소득으로 대행행령으로 정하는 기타소득  \\n\\n제20조제31항제3호 및 제31조에 따른 연금소득과 다음 각 목에 해당하는 연금소득(다음 과세 종합소득과세표준을 계산할 때 이를 합산하는 경우에 하여야 하며, 이하 “분리과세연금소득”이라 한다)  \\n\\n가. 제20조제31항제1과의 연금퇴직소득을 연금소득하는 연금소득\\n나. 제20조제31항제1과목 및 다음의 금액이 물어복역, 전혀부족이나 그 밖의 부득이한 경우를 대행행령으로 정하는 경우 2천만원 연금소득  \\n\\n삭제 <2013. 1. 1.>')],\n",
       " 'answer': '소득세란 개인이나 법인이 얻은 소득에 대해 부과되는 세금입니다. 거주자의 종합소득에 대해 세율을 적용하여 세액을 계산하며, 다양한 소득 종류에 따라 세액이 다르게 정해질 수 있습니다. 따라서 소득세는 각 개인의 소득 수준에 따라 차등적으로 부과됩니다.'}"
      ]
     },
     "execution_count": 28,
     "metadata": {},
     "output_type": "execute_result"
    }
   ],
   "source": [
    "initial_state = {'query': '소득세란 무엇인가요?'}\n",
    "graph.invoke(initial_state)"
   ]
  },
  {
   "cell_type": "code",
   "execution_count": 29,
   "metadata": {},
   "outputs": [
    {
     "data": {
      "text/plain": [
       "{'query': '집 15억은 세금을 얼마나 내나요?',\n",
       " 'answer': '주어진 정보를 바탕으로 기본적인 계산 과정을 설명드리겠습니다. 우선 공정시장가액을 구하셨습니다.\\n\\n1. **공정시장가액:** 15억 원 × 60% = 9억 원\\n\\n공정시장가액만으로는 종합부동산세를 계산할 수 없습니다. 종합부동산세 계산에는 부양공제, 감면 혜택, 그리고 적용되는 세율이 필요합니다. \\n\\n### 추가적으로 필요한 정보:\\n- **1세대 1주택인지 여부**: 1세대 1주택자인 경우 특별공제 혜택이 있을 수 있습니다.\\n- **공제 금액:** 기본 공제 금액이 주택 종류 및 정책에 따라 다를 수 있습니다.\\n- **적용되는 세율:** 주택 수와 과세표준에 따라 세율이 다릅니다.\\n- **기타 감면 사항:** 정책에 따라 달라질 수 있습니다.\\n\\n국세청의 관련 규정을 통해 세율 구간을 확인하고, 해당 과세표준과 조건에 맞는 세율을 적용해야 합니다.\\n\\n정확한 세금을 계산하기 위해서는 위와 같은 추가적인 정보가 필요합니다. 세부 정보가 부족한 관계로 일반적인 계산에서 벗어나기 어렵습니다. 국세청 또는 관련 세무 담당 기관에 문의하시어 최신 정보와 규정에 따라 종합부동산세를 계산하시길 권장합니다.'}"
      ]
     },
     "execution_count": 29,
     "metadata": {},
     "output_type": "execute_result"
    }
   ],
   "source": [
    "initial_state = {\n",
    "    'query': '집 15억은 세금을 얼마나 내나요?'\n",
    "}\n",
    "\n",
    "graph.invoke(initial_state)"
   ]
  },
  {
   "cell_type": "code",
   "execution_count": 30,
   "metadata": {},
   "outputs": [
    {
     "data": {
      "text/plain": [
       "{'query': '떡볶이는 어디가 맛있나요?',\n",
       " 'answer': '떡볶이를 맛있게 먹을 수 있는 장소는 여러 곳이 있습니다. 지역마다 유명한 떡볶이 집이 많으니, 몇 가지 추천해 드리겠습니다.\\n\\n1. **서울**: 명동, 홍대, 신촌 등에는 다양한 떡볶이 가게가 있습니다. 특히 \"신전떡볶이\"와 \"이태원 떡볶이\"가 인기입니다.\\n  \\n2. **부산**: 부산 해운대나 서면 지역에는 \"부산 할매 떡볶이\"와 같은 유명한 가게가 많습니다.\\n\\n3. **대전**: \"대전 떡볶이\"는 매운 떡볶이를 좋아하는 사람들에게 추천할 만한 곳입니다.\\n\\n4. **광주**: 광주에서는 \"광주 떡볶이\"가 유명하며, 독특한 맛을 즐길 수 있습니다.\\n\\n각 지역마다 떡볶이의 스타일과 맛이 다르니, 여행하면서 다양한 곳을 찾아보는 것도 좋습니다!'}"
      ]
     },
     "execution_count": 30,
     "metadata": {},
     "output_type": "execute_result"
    }
   ],
   "source": [
    "initial_state = {'query': '떡볶이는 어디가 맛있나요?'}\n",
    "graph.invoke(initial_state)"
   ]
  },
  {
   "cell_type": "code",
   "execution_count": null,
   "metadata": {},
   "outputs": [],
   "source": []
  }
 ],
 "metadata": {
  "kernelspec": {
   "display_name": ".venv",
   "language": "python",
   "name": "python3"
  },
  "language_info": {
   "codemirror_mode": {
    "name": "ipython",
    "version": 3
   },
   "file_extension": ".py",
   "mimetype": "text/x-python",
   "name": "python",
   "nbconvert_exporter": "python",
   "pygments_lexer": "ipython3",
   "version": "3.13.7"
  }
 },
 "nbformat": 4,
 "nbformat_minor": 2
}
